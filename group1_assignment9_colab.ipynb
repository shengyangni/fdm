{
  "nbformat": 4,
  "nbformat_minor": 0,
  "metadata": {
    "colab": {
      "name": "group1 assignment9.ipynb",
      "provenance": []
    },
    "kernelspec": {
      "name": "python3",
      "display_name": "Python 3"
    }
  },
  "cells": [
    {
      "cell_type": "code",
      "metadata": {
        "id": "a_NT9iYNMtmN",
        "colab_type": "code",
        "colab": {
          "base_uri": "https://localhost:8080/",
          "height": 122
        },
        "outputId": "beaaf62e-75a2-41c0-b535-0918405b9f42"
      },
      "source": [
        "from google.colab import drive\n",
        "drive.mount('/content/gdrive')"
      ],
      "execution_count": 1,
      "outputs": [
        {
          "output_type": "stream",
          "text": [
            "Go to this URL in a browser: https://accounts.google.com/o/oauth2/auth?client_id=947318989803-6bn6qk8qdgf4n4g3pfee6491hc0brc4i.apps.googleusercontent.com&redirect_uri=urn%3Aietf%3Awg%3Aoauth%3A2.0%3Aoob&scope=email%20https%3A%2F%2Fwww.googleapis.com%2Fauth%2Fdocs.test%20https%3A%2F%2Fwww.googleapis.com%2Fauth%2Fdrive%20https%3A%2F%2Fwww.googleapis.com%2Fauth%2Fdrive.photos.readonly%20https%3A%2F%2Fwww.googleapis.com%2Fauth%2Fpeopleapi.readonly&response_type=code\n",
            "\n",
            "Enter your authorization code:\n",
            "··········\n",
            "Mounted at /content/gdrive\n"
          ],
          "name": "stdout"
        }
      ]
    },
    {
      "cell_type": "code",
      "metadata": {
        "id": "5Cc53xtePq2f",
        "colab_type": "code",
        "colab": {}
      },
      "source": [
        "!wget -q https://archive.apache.org/dist/spark/spark-2.2.3/spark-2.2.3-bin-hadoop2.7.tgz\n",
        "!tar xf spark-2.2.3-bin-hadoop2.7.tgz\n",
        "!pip install -q findspark"
      ],
      "execution_count": 0,
      "outputs": []
    },
    {
      "cell_type": "code",
      "metadata": {
        "id": "CvvaaPQoP03G",
        "colab_type": "code",
        "colab": {
          "base_uri": "https://localhost:8080/",
          "height": 34
        },
        "outputId": "d213377a-bab0-4ba0-9989-074cfcb3e415"
      },
      "source": [
        "!ls"
      ],
      "execution_count": 3,
      "outputs": [
        {
          "output_type": "stream",
          "text": [
            "gdrive\tsample_data  spark-2.2.3-bin-hadoop2.7\tspark-2.2.3-bin-hadoop2.7.tgz\n"
          ],
          "name": "stdout"
        }
      ]
    },
    {
      "cell_type": "code",
      "metadata": {
        "id": "-P7vigNIP2y-",
        "colab_type": "code",
        "colab": {
          "base_uri": "https://localhost:8080/",
          "height": 68
        },
        "outputId": "386fdcbb-c5ef-49a3-f7be-66da7a79f9ea"
      },
      "source": [
        "import os       #importing os to set environment variable\n",
        "def install_java():\n",
        "  !apt-get install -y openjdk-8-jdk-headless -qq > /dev/null      #install openjdk\n",
        "  os.environ[\"JAVA_HOME\"] = \"/usr/lib/jvm/java-8-openjdk-amd64\"     #set environment variable\n",
        "  !java -version       #check java version\n",
        "install_java()"
      ],
      "execution_count": 4,
      "outputs": [
        {
          "output_type": "stream",
          "text": [
            "openjdk version \"11.0.4\" 2019-07-16\n",
            "OpenJDK Runtime Environment (build 11.0.4+11-post-Ubuntu-1ubuntu218.04.3)\n",
            "OpenJDK 64-Bit Server VM (build 11.0.4+11-post-Ubuntu-1ubuntu218.04.3, mixed mode, sharing)\n"
          ],
          "name": "stdout"
        }
      ]
    },
    {
      "cell_type": "code",
      "metadata": {
        "id": "8WFwCtajP6NK",
        "colab_type": "code",
        "colab": {
          "base_uri": "https://localhost:8080/",
          "height": 187
        },
        "outputId": "845284c1-ac08-4ac4-e049-535dc918eada"
      },
      "source": [
        "!update-alternatives --config java"
      ],
      "execution_count": 5,
      "outputs": [
        {
          "output_type": "stream",
          "text": [
            "There are 2 choices for the alternative java (providing /usr/bin/java).\n",
            "\n",
            "  Selection    Path                                            Priority   Status\n",
            "------------------------------------------------------------\n",
            "* 0            /usr/lib/jvm/java-11-openjdk-amd64/bin/java      1111      auto mode\n",
            "  1            /usr/lib/jvm/java-11-openjdk-amd64/bin/java      1111      manual mode\n",
            "  2            /usr/lib/jvm/java-8-openjdk-amd64/jre/bin/java   1081      manual mode\n",
            "\n",
            "Press <enter> to keep the current choice[*], or type selection number: 2\n",
            "update-alternatives: using /usr/lib/jvm/java-8-openjdk-amd64/jre/bin/java to provide /usr/bin/java (java) in manual mode\n"
          ],
          "name": "stdout"
        }
      ]
    },
    {
      "cell_type": "code",
      "metadata": {
        "id": "JifYNGtpP_oU",
        "colab_type": "code",
        "colab": {
          "base_uri": "https://localhost:8080/",
          "height": 68
        },
        "outputId": "81ad7fd7-669b-4fdd-dc47-9291af1602aa"
      },
      "source": [
        "!java -version"
      ],
      "execution_count": 6,
      "outputs": [
        {
          "output_type": "stream",
          "text": [
            "openjdk version \"1.8.0_222\"\n",
            "OpenJDK Runtime Environment (build 1.8.0_222-8u222-b10-1ubuntu1~18.04.1-b10)\n",
            "OpenJDK 64-Bit Server VM (build 25.222-b10, mixed mode)\n"
          ],
          "name": "stdout"
        }
      ]
    },
    {
      "cell_type": "code",
      "metadata": {
        "id": "ecqKPrjQQByi",
        "colab_type": "code",
        "colab": {}
      },
      "source": [
        "import os\n",
        "os.environ[\"JAVA_HOME\"] = \"/usr/lib/jvm/java-8-openjdk-amd64\"\n",
        "os.environ[\"SPARK_HOME\"] = \"/content/spark-2.2.3-bin-hadoop2.7\""
      ],
      "execution_count": 0,
      "outputs": []
    },
    {
      "cell_type": "code",
      "metadata": {
        "id": "_7eh9vO_QEd-",
        "colab_type": "code",
        "colab": {}
      },
      "source": [
        "import findspark\n",
        "findspark.init()"
      ],
      "execution_count": 0,
      "outputs": []
    },
    {
      "cell_type": "code",
      "metadata": {
        "id": "GG3KUnMSQHCN",
        "colab_type": "code",
        "colab": {}
      },
      "source": [
        "from pyspark.conf import SparkConf\n",
        "from pyspark.context import SparkContext\n",
        "from pyspark.sql import SparkSession\n",
        "conf = SparkConf().setAppName(\"MLlib\")\n",
        "sc = SparkContext(conf=conf)\n",
        "sc.setLogLevel(\"WARN\")\n",
        "spark = SparkSession(sc)"
      ],
      "execution_count": 0,
      "outputs": []
    },
    {
      "cell_type": "markdown",
      "metadata": {
        "id": "YDRwRbNyXg9a",
        "colab_type": "text"
      },
      "source": [
        "Q1"
      ]
    },
    {
      "cell_type": "code",
      "metadata": {
        "id": "wHY8P18MQVL5",
        "colab_type": "code",
        "colab": {}
      },
      "source": [
        "payment_df = spark.read.format(\"csv\").option(\"header\", \"true\").load(r'/content/gdrive/My Drive/hw9/payment.csv')\n",
        "payment_df = payment_df.alias('payment_df')\n"
      ],
      "execution_count": 0,
      "outputs": []
    },
    {
      "cell_type": "code",
      "metadata": {
        "id": "5h-hV387RJ5C",
        "colab_type": "code",
        "colab": {
          "base_uri": "https://localhost:8080/",
          "height": 170
        },
        "outputId": "e773740b-5e5a-48f5-bc21-c4b9183d3f42"
      },
      "source": [
        "payment_df.groupby('customer_id').agg({\"amount\":\"sum\"}).orderBy('sum(amount)',ascending = False).show(3)"
      ],
      "execution_count": 11,
      "outputs": [
        {
          "output_type": "stream",
          "text": [
            "+-----------+------------------+\n",
            "|customer_id|       sum(amount)|\n",
            "+-----------+------------------+\n",
            "|        526| 221.5500000000001|\n",
            "|        148| 216.5400000000001|\n",
            "|        144|195.58000000000007|\n",
            "+-----------+------------------+\n",
            "only showing top 3 rows\n",
            "\n"
          ],
          "name": "stdout"
        }
      ]
    },
    {
      "cell_type": "markdown",
      "metadata": {
        "id": "iQmEtSdEXiW0",
        "colab_type": "text"
      },
      "source": [
        "Q2"
      ]
    },
    {
      "cell_type": "code",
      "metadata": {
        "id": "Exdm4cxZXkL5",
        "colab_type": "code",
        "colab": {}
      },
      "source": [
        "rental_df = spark.read.format(\"csv\").option(\"header\", \"true\").load(r'/content/gdrive/My Drive/hw9/rental.csv')\n",
        "rental_df = rental_df.alias('rental_df')\n"
      ],
      "execution_count": 0,
      "outputs": []
    },
    {
      "cell_type": "code",
      "metadata": {
        "id": "eiihKtujjIXP",
        "colab_type": "code",
        "colab": {
          "base_uri": "https://localhost:8080/",
          "height": 170
        },
        "outputId": "0c17ebf1-1eac-40b8-cb46-2baf3acd26ca"
      },
      "source": [
        "rental_df.orderBy('return_date',ascending = True).show(3)"
      ],
      "execution_count": 13,
      "outputs": [
        {
          "output_type": "stream",
          "text": [
            "+---------+-------------------+------------+-----------+-------------------+--------+-------------------+\n",
            "|rental_id|        rental_date|inventory_id|customer_id|        return_date|staff_id|        last_update|\n",
            "+---------+-------------------+------------+-----------+-------------------+--------+-------------------+\n",
            "|       32|2005-05-25 04:06:21|        3832|        230|2005-05-25 23:55:21|       1|2006-02-15 21:30:53|\n",
            "|       21|2005-05-25 01:59:46|         146|        388|2005-05-26 01:01:46|       2|2006-02-15 21:30:53|\n",
            "|       14|2005-05-25 00:31:15|        2701|        446|2005-05-26 02:56:15|       1|2006-02-15 21:30:53|\n",
            "+---------+-------------------+------------+-----------+-------------------+--------+-------------------+\n",
            "only showing top 3 rows\n",
            "\n"
          ],
          "name": "stdout"
        }
      ]
    },
    {
      "cell_type": "markdown",
      "metadata": {
        "id": "Cr9r2BvtnE8E",
        "colab_type": "text"
      },
      "source": [
        "Q3"
      ]
    },
    {
      "cell_type": "code",
      "metadata": {
        "id": "5oz8cCo6nEaY",
        "colab_type": "code",
        "colab": {
          "base_uri": "https://localhost:8080/",
          "height": 136
        },
        "outputId": "61b9729b-57dc-4c02-db69-41a9f04d5e70"
      },
      "source": [
        "rental_df.groupBy('staff_id').count().show()"
      ],
      "execution_count": 14,
      "outputs": [
        {
          "output_type": "stream",
          "text": [
            "+--------+-----+\n",
            "|staff_id|count|\n",
            "+--------+-----+\n",
            "|       1| 8040|\n",
            "|       2| 8004|\n",
            "+--------+-----+\n",
            "\n"
          ],
          "name": "stdout"
        }
      ]
    },
    {
      "cell_type": "markdown",
      "metadata": {
        "id": "6W7IttxjnlLa",
        "colab_type": "text"
      },
      "source": [
        "Q4"
      ]
    },
    {
      "cell_type": "code",
      "metadata": {
        "id": "BcbG4i0ynmEz",
        "colab_type": "code",
        "colab": {}
      },
      "source": [
        "staff_df = spark.read.format(\"csv\").option(\"header\", \"true\").load(r'/content/gdrive/My Drive/hw9/staff.csv')\n",
        "staff_df = staff_df.alias('staff_df')\n"
      ],
      "execution_count": 0,
      "outputs": []
    },
    {
      "cell_type": "code",
      "metadata": {
        "id": "e6lkj-RCqKTV",
        "colab_type": "code",
        "colab": {
          "base_uri": "https://localhost:8080/",
          "height": 136
        },
        "outputId": "20ba6a07-09b3-466a-b597-02b6003e6332"
      },
      "source": [
        "df1 = rental_df.groupBy('staff_id').count()\n",
        "df2 = staff_df.select('staff_id','first_name','last_name')\n",
        "df2.join(df1, df2.staff_id == df1.staff_id,\"inner\").select('first_name','last_name','count').show()\n"
      ],
      "execution_count": 16,
      "outputs": [
        {
          "output_type": "stream",
          "text": [
            "+----------+---------+-----+\n",
            "|first_name|last_name|count|\n",
            "+----------+---------+-----+\n",
            "|      Mike|  Hillyer| 8040|\n",
            "|       Jon| Stephens| 8004|\n",
            "+----------+---------+-----+\n",
            "\n"
          ],
          "name": "stdout"
        }
      ]
    },
    {
      "cell_type": "markdown",
      "metadata": {
        "id": "b4SD-LKGufJn",
        "colab_type": "text"
      },
      "source": [
        "Q5"
      ]
    },
    {
      "cell_type": "code",
      "metadata": {
        "id": "NjwPor4xqaGI",
        "colab_type": "code",
        "colab": {}
      },
      "source": [
        "inventory_df = spark.read.format(\"csv\").option(\"header\", \"true\").load(r'/content/gdrive/My Drive/hw9/inventory.csv')\n",
        "inventory_df = inventory_df.alias('inventory_df')\n"
      ],
      "execution_count": 0,
      "outputs": []
    },
    {
      "cell_type": "code",
      "metadata": {
        "id": "fvxv2ua4MnHn",
        "colab_type": "code",
        "colab": {}
      },
      "source": [
        "store_df = spark.read.format(\"csv\").option(\"header\", \"true\").load(r'/content/gdrive/My Drive/hw9/store.csv')\n",
        "store_df = store_df.alias('store_df')\n"
      ],
      "execution_count": 0,
      "outputs": []
    },
    {
      "cell_type": "code",
      "metadata": {
        "id": "AwCwtdOSMqjO",
        "colab_type": "code",
        "colab": {}
      },
      "source": [
        "address_df = spark.read.format(\"csv\").option(\"header\", \"true\").load(r'/content/gdrive/My Drive/hw9/address.csv')\n",
        "address_df = address_df.alias('address_df')\n"
      ],
      "execution_count": 0,
      "outputs": []
    },
    {
      "cell_type": "code",
      "metadata": {
        "id": "fot9f13vMxpk",
        "colab_type": "code",
        "colab": {}
      },
      "source": [
        "customer_df = spark.read.format(\"csv\").option(\"header\", \"true\").load(r'/content/gdrive/My Drive/hw9/customer.csv')\n",
        "customer_df = customer_df.alias('customer_df')\n"
      ],
      "execution_count": 0,
      "outputs": []
    },
    {
      "cell_type": "code",
      "metadata": {
        "id": "spkCVCxOR875",
        "colab_type": "code",
        "colab": {}
      },
      "source": [
        "film_df = spark.read.format(\"csv\").option(\"header\", \"true\").load(r'/content/gdrive/My Drive/hw9/film.csv')\n",
        "film_df = film_df.alias('film_df')\n"
      ],
      "execution_count": 0,
      "outputs": []
    },
    {
      "cell_type": "code",
      "metadata": {
        "id": "8r_kSTHEOKNC",
        "colab_type": "code",
        "colab": {}
      },
      "source": [
        "stepone = rental_df.join(inventory_df,rental_df.inventory_id == inventory_df.inventory_id,\"inner\")\n"
      ],
      "execution_count": 0,
      "outputs": []
    },
    {
      "cell_type": "code",
      "metadata": {
        "id": "i58G2bbFPVtZ",
        "colab_type": "code",
        "colab": {}
      },
      "source": [
        "steptwo = stepone.join(store_df,stepone.store_id == store_df.store_id,\"inner\")\n"
      ],
      "execution_count": 0,
      "outputs": []
    },
    {
      "cell_type": "code",
      "metadata": {
        "id": "Tj5lumrBQLOB",
        "colab_type": "code",
        "colab": {}
      },
      "source": [
        "stepthree = steptwo.join(address_df,steptwo.address_id == address_df.address_id,\"inner\")\n"
      ],
      "execution_count": 0,
      "outputs": []
    },
    {
      "cell_type": "code",
      "metadata": {
        "id": "U-HxanoHQizo",
        "colab_type": "code",
        "colab": {}
      },
      "source": [
        "stepfour = stepthree.join(customer_df,stepthree.customer_id == customer_df.customer_id,\"inner\").select('rental_date','return_date','address','staff_id','film_id','first_name','last_name')\n"
      ],
      "execution_count": 0,
      "outputs": []
    },
    {
      "cell_type": "code",
      "metadata": {
        "id": "_Mf-nJKZRkEa",
        "colab_type": "code",
        "colab": {}
      },
      "source": [
        "stepfive = stepfour.join(staff_df,stepfour.staff_id == staff_df.staff_id,\"inner\").drop('staff_id','address_id','picture','email','store_id','active','username','password','last_update')\n"
      ],
      "execution_count": 0,
      "outputs": []
    },
    {
      "cell_type": "code",
      "metadata": {
        "id": "UAjkWZgOR1yx",
        "colab_type": "code",
        "colab": {
          "base_uri": "https://localhost:8080/",
          "height": 190
        },
        "outputId": "981921e1-8281-43e2-b7ec-4cd00fec92cb"
      },
      "source": [
        "stepsix = stepfive.join(film_df,stepfive.film_id == film_df.film_id,\"inner\").drop('film_id','release_year','language_id','original_language_id','rental_duration','rental_rate','length','replacement_cost','rating','special_features','last_update')\n",
        "stepsix.show(3)"
      ],
      "execution_count": 27,
      "outputs": [
        {
          "output_type": "stream",
          "text": [
            "+-------------------+-------------------+------------------+----------+---------+----------+---------+---------------+--------------------+\n",
            "|        rental_date|        return_date|           address|first_name|last_name|first_name|last_name|          title|         description|\n",
            "+-------------------+-------------------+------------------+----------+---------+----------+---------+---------------+--------------------+\n",
            "|2005-05-24 22:53:30|2005-05-26 22:04:30| 47 MySakila Drive| CHARLOTTE|   HUNTER|      Mike|  Hillyer|BLANKET BEVERLY|A Emotional Docum...|\n",
            "|2005-05-24 22:54:33|2005-05-28 19:40:33|28 MySQL Boulevard|     TOMMY|  COLLAZO|      Mike|  Hillyer|   FREAKY POCUS|A Fast-Paced Docu...|\n",
            "|2005-05-24 23:03:39|2005-06-01 22:12:39|28 MySQL Boulevard|    MANUEL|  MURRELL|      Mike|  Hillyer|  GRADUATE LORD|A Lacklusture Epi...|\n",
            "+-------------------+-------------------+------------------+----------+---------+----------+---------+---------------+--------------------+\n",
            "only showing top 3 rows\n",
            "\n"
          ],
          "name": "stdout"
        }
      ]
    },
    {
      "cell_type": "code",
      "metadata": {
        "id": "gWSEQmtNaPmY",
        "colab_type": "code",
        "colab": {
          "base_uri": "https://localhost:8080/",
          "height": 190
        },
        "outputId": "774df461-c228-40ca-ffe1-c540043be8a0"
      },
      "source": [
        "stepsix.orderBy('return_date',ascending = True).show(3)"
      ],
      "execution_count": 28,
      "outputs": [
        {
          "output_type": "stream",
          "text": [
            "+-------------------+-------------------+------------------+----------+---------+----------+---------+------------------+--------------------+\n",
            "|        rental_date|        return_date|           address|first_name|last_name|first_name|last_name|             title|         description|\n",
            "+-------------------+-------------------+------------------+----------+---------+----------+---------+------------------+--------------------+\n",
            "|2005-05-25 04:06:21|2005-05-25 23:55:21|28 MySQL Boulevard|       JOY|   GEORGE|      Mike|  Hillyer| STALLION SUNDANCE|A Fast-Paced Tale...|\n",
            "|2005-05-25 01:59:46|2005-05-26 01:01:46| 47 MySakila Drive|     CRAIG|  MORRELL|       Jon| Stephens|     APACHE DIVINE|A Awe-Inspiring R...|\n",
            "|2005-05-25 00:31:15|2005-05-26 02:56:15|28 MySQL Boulevard|  THEODORE|     CULP|      Mike|  Hillyer|MONTEREY LABYRINTH|A Awe-Inspiring D...|\n",
            "+-------------------+-------------------+------------------+----------+---------+----------+---------+------------------+--------------------+\n",
            "only showing top 3 rows\n",
            "\n"
          ],
          "name": "stdout"
        }
      ]
    },
    {
      "cell_type": "markdown",
      "metadata": {
        "id": "AAWK_M3EbKM-",
        "colab_type": "text"
      },
      "source": [
        "Q6"
      ]
    },
    {
      "cell_type": "code",
      "metadata": {
        "id": "3ifcULw4bLIr",
        "colab_type": "code",
        "colab": {
          "base_uri": "https://localhost:8080/",
          "height": 136
        },
        "outputId": "b384e5f7-71e9-49db-efa1-05ea1bc9d7d0"
      },
      "source": [
        "payment_df.groupby('customer_id').agg({\"amount\":\"sum\"}).where(\"sum(amount)>='200'\").show()"
      ],
      "execution_count": 29,
      "outputs": [
        {
          "output_type": "stream",
          "text": [
            "+-----------+-----------------+\n",
            "|customer_id|      sum(amount)|\n",
            "+-----------+-----------------+\n",
            "|        526|221.5500000000001|\n",
            "|        148|216.5400000000001|\n",
            "+-----------+-----------------+\n",
            "\n"
          ],
          "name": "stdout"
        }
      ]
    },
    {
      "cell_type": "markdown",
      "metadata": {
        "id": "JDUKz6ace6BP",
        "colab_type": "text"
      },
      "source": [
        "Q7"
      ]
    },
    {
      "cell_type": "code",
      "metadata": {
        "id": "9SoiVapte5Sc",
        "colab_type": "code",
        "colab": {
          "base_uri": "https://localhost:8080/",
          "height": 136
        },
        "outputId": "7c972b3e-d692-41b8-fbfa-055b9eab64c7"
      },
      "source": [
        "df4 = payment_df.groupby('customer_id').agg({\"amount\":\"sum\"}).where(\"sum(amount)>='200'\")\n",
        "df4.join(customer_df, df4.customer_id == customer_df.customer_id,\"inner\").select('first_name','last_name','sum(amount)').show()"
      ],
      "execution_count": 30,
      "outputs": [
        {
          "output_type": "stream",
          "text": [
            "+----------+---------+-----------------+\n",
            "|first_name|last_name|      sum(amount)|\n",
            "+----------+---------+-----------------+\n",
            "|      KARL|     SEAL|221.5500000000001|\n",
            "|   ELEANOR|     HUNT|216.5400000000001|\n",
            "+----------+---------+-----------------+\n",
            "\n"
          ],
          "name": "stdout"
        }
      ]
    },
    {
      "cell_type": "markdown",
      "metadata": {
        "id": "V1iHWRzXggFV",
        "colab_type": "text"
      },
      "source": [
        "Q8"
      ]
    },
    {
      "cell_type": "code",
      "metadata": {
        "id": "CvQ6jGoG9ZHM",
        "colab_type": "code",
        "colab": {}
      },
      "source": [
        "import pyspark.sql.functions as func"
      ],
      "execution_count": 0,
      "outputs": []
    },
    {
      "cell_type": "code",
      "metadata": {
        "id": "vr6ZWGtBhqfY",
        "colab_type": "code",
        "colab": {}
      },
      "source": [
        "df5 = rental_df.withColumn('rental_years',func.year(func.to_timestamp('rental_date'))).select('rental_years','customer_id').where(\"rental_years=='2005'\")\n",
        "df6 = rental_df.withColumn('rental_years',func.year(func.to_timestamp('rental_date'))).select('rental_years','customer_id').where(\"rental_years=='2006'\")"
      ],
      "execution_count": 0,
      "outputs": []
    },
    {
      "cell_type": "code",
      "metadata": {
        "id": "QlVs8Oswp4HU",
        "colab_type": "code",
        "colab": {
          "base_uri": "https://localhost:8080/",
          "height": 34
        },
        "outputId": "9fb134f7-914d-4954-8388-bfa85a379974"
      },
      "source": [
        "df5.select('customer_id').subtract(df6.select('customer_id')).count()"
      ],
      "execution_count": 49,
      "outputs": [
        {
          "output_type": "execute_result",
          "data": {
            "text/plain": [
              "441"
            ]
          },
          "metadata": {
            "tags": []
          },
          "execution_count": 49
        }
      ]
    },
    {
      "cell_type": "code",
      "metadata": {
        "id": "lFX3J0euqrsm",
        "colab_type": "code",
        "colab": {
          "base_uri": "https://localhost:8080/",
          "height": 34
        },
        "outputId": "ab339008-f2bd-409a-d32b-00d612869e1f"
      },
      "source": [
        "df6.select('customer_id').subtract(df5.select('customer_id')).count()"
      ],
      "execution_count": 50,
      "outputs": [
        {
          "output_type": "execute_result",
          "data": {
            "text/plain": [
              "0"
            ]
          },
          "metadata": {
            "tags": []
          },
          "execution_count": 50
        }
      ]
    }
  ]
}