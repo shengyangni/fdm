{
  "nbformat": 4,
  "nbformat_minor": 0,
  "metadata": {
    "colab": {
      "name": "group1 assignment11.ipynb",
      "provenance": []
    },
    "kernelspec": {
      "name": "python3",
      "display_name": "Python 3"
    }
  },
  "cells": [
    {
      "cell_type": "markdown",
      "metadata": {
        "id": "y_EE8IEHkKuQ",
        "colab_type": "text"
      },
      "source": [
        "1"
      ]
    },
    {
      "cell_type": "code",
      "metadata": {
        "id": "rGQPCC6bInm_",
        "colab_type": "code",
        "colab": {
          "base_uri": "https://localhost:8080/",
          "height": 34
        },
        "outputId": "9ed346bf-e5fc-4cc4-f482-15bd263ccce9"
      },
      "source": [
        "from google.colab import auth\n",
        "auth.authenticate_user()\n",
        "print('Authenticated')"
      ],
      "execution_count": 8,
      "outputs": [
        {
          "output_type": "stream",
          "text": [
            "Authenticated\n"
          ],
          "name": "stdout"
        }
      ]
    },
    {
      "cell_type": "code",
      "metadata": {
        "id": "23vwOQ5eNGdc",
        "colab_type": "code",
        "colab": {
          "base_uri": "https://localhost:8080/",
          "height": 80
        },
        "outputId": "16d29c9b-77f1-44c0-863d-15f2ea513bff"
      },
      "source": [
        "%%bigquery --project numeric-mote-259221\n",
        "SELECT \n",
        "  COUNT(*) as total_rows\n",
        "FROM `bigquery-public-data.samples.gsod`"
      ],
      "execution_count": 9,
      "outputs": [
        {
          "output_type": "execute_result",
          "data": {
            "text/html": [
              "<div>\n",
              "<style scoped>\n",
              "    .dataframe tbody tr th:only-of-type {\n",
              "        vertical-align: middle;\n",
              "    }\n",
              "\n",
              "    .dataframe tbody tr th {\n",
              "        vertical-align: top;\n",
              "    }\n",
              "\n",
              "    .dataframe thead th {\n",
              "        text-align: right;\n",
              "    }\n",
              "</style>\n",
              "<table border=\"1\" class=\"dataframe\">\n",
              "  <thead>\n",
              "    <tr style=\"text-align: right;\">\n",
              "      <th></th>\n",
              "      <th>total_rows</th>\n",
              "    </tr>\n",
              "  </thead>\n",
              "  <tbody>\n",
              "    <tr>\n",
              "      <th>0</th>\n",
              "      <td>114420316</td>\n",
              "    </tr>\n",
              "  </tbody>\n",
              "</table>\n",
              "</div>"
            ],
            "text/plain": [
              "   total_rows\n",
              "0   114420316"
            ]
          },
          "metadata": {
            "tags": []
          },
          "execution_count": 9
        }
      ]
    },
    {
      "cell_type": "code",
      "metadata": {
        "id": "XbwyqUTlNWd4",
        "colab_type": "code",
        "colab": {}
      },
      "source": [
        "%%bigquery --project numeric-mote-259221 df\n",
        "SELECT \n",
        "  COUNT(*) as total_rows\n",
        "FROM `bigquery-public-data.samples.gsod`"
      ],
      "execution_count": 0,
      "outputs": []
    },
    {
      "cell_type": "code",
      "metadata": {
        "id": "aiapoBpyNG47",
        "colab_type": "code",
        "colab": {
          "base_uri": "https://localhost:8080/",
          "height": 32
        },
        "outputId": "06c0e024-77c0-4f7d-93e4-a914203e967e"
      },
      "source": [
        "%%bigquery --project numeric-mote-259221\n",
        "\n",
        "CREATE OR REPLACE MODEL `bqml_tutorial.sample_model` \n",
        "OPTIONS(model_type='logistic_reg') AS\n",
        "SELECT\n",
        "  IF(totals.transactions IS NULL, 0, 1) AS label,\n",
        "  IFNULL(device.operatingSystem, \"\") AS os,\n",
        "  device.isMobile AS is_mobile,\n",
        "  IFNULL(geoNetwork.country, \"\") AS country,\n",
        "  IFNULL(totals.pageviews, 0) AS pageviews\n",
        "FROM\n",
        "  `bigquery-public-data.google_analytics_sample.ga_sessions_*`\n",
        "WHERE\n",
        "  _TABLE_SUFFIX BETWEEN '20160801' AND '20170631'\n",
        "LIMIT 100000;"
      ],
      "execution_count": 11,
      "outputs": [
        {
          "output_type": "execute_result",
          "data": {
            "text/html": [
              "<div>\n",
              "<style scoped>\n",
              "    .dataframe tbody tr th:only-of-type {\n",
              "        vertical-align: middle;\n",
              "    }\n",
              "\n",
              "    .dataframe tbody tr th {\n",
              "        vertical-align: top;\n",
              "    }\n",
              "\n",
              "    .dataframe thead th {\n",
              "        text-align: right;\n",
              "    }\n",
              "</style>\n",
              "<table border=\"1\" class=\"dataframe\">\n",
              "  <thead>\n",
              "    <tr style=\"text-align: right;\">\n",
              "      <th></th>\n",
              "    </tr>\n",
              "  </thead>\n",
              "  <tbody>\n",
              "  </tbody>\n",
              "</table>\n",
              "</div>"
            ],
            "text/plain": [
              "Empty DataFrame\n",
              "Columns: []\n",
              "Index: []"
            ]
          },
          "metadata": {
            "tags": []
          },
          "execution_count": 11
        }
      ]
    },
    {
      "cell_type": "code",
      "metadata": {
        "id": "68ymUhYsNmGN",
        "colab_type": "code",
        "colab": {
          "base_uri": "https://localhost:8080/",
          "height": 80
        },
        "outputId": "b1ae003c-ec01-48f3-a63c-cd918023254f"
      },
      "source": [
        "%%bigquery --project numeric-mote-259221\n",
        "\n",
        "#standardSQL\n",
        "SELECT\n",
        "  *\n",
        "FROM\n",
        "  ml.EVALUATE(MODEL `bqml_tutorial.sample_model`, (\n",
        "SELECT\n",
        "  IF(totals.transactions IS NULL, 0, 1) AS label,\n",
        "  IFNULL(device.operatingSystem, \"\") AS os,\n",
        "  device.isMobile AS is_mobile,\n",
        "  IFNULL(geoNetwork.country, \"\") AS country,\n",
        "  IFNULL(totals.pageviews, 0) AS pageviews\n",
        "FROM\n",
        "  `bigquery-public-data.google_analytics_sample.ga_sessions_*`\n",
        "WHERE\n",
        "  _TABLE_SUFFIX BETWEEN '20170701' AND '20170801'));"
      ],
      "execution_count": 12,
      "outputs": [
        {
          "output_type": "execute_result",
          "data": {
            "text/html": [
              "<div>\n",
              "<style scoped>\n",
              "    .dataframe tbody tr th:only-of-type {\n",
              "        vertical-align: middle;\n",
              "    }\n",
              "\n",
              "    .dataframe tbody tr th {\n",
              "        vertical-align: top;\n",
              "    }\n",
              "\n",
              "    .dataframe thead th {\n",
              "        text-align: right;\n",
              "    }\n",
              "</style>\n",
              "<table border=\"1\" class=\"dataframe\">\n",
              "  <thead>\n",
              "    <tr style=\"text-align: right;\">\n",
              "      <th></th>\n",
              "      <th>precision</th>\n",
              "      <th>recall</th>\n",
              "      <th>accuracy</th>\n",
              "      <th>f1_score</th>\n",
              "      <th>log_loss</th>\n",
              "      <th>roc_auc</th>\n",
              "    </tr>\n",
              "  </thead>\n",
              "  <tbody>\n",
              "    <tr>\n",
              "      <th>0</th>\n",
              "      <td>0.468085</td>\n",
              "      <td>0.081937</td>\n",
              "      <td>0.985397</td>\n",
              "      <td>0.139461</td>\n",
              "      <td>0.04623</td>\n",
              "      <td>0.979032</td>\n",
              "    </tr>\n",
              "  </tbody>\n",
              "</table>\n",
              "</div>"
            ],
            "text/plain": [
              "   precision    recall  accuracy  f1_score  log_loss   roc_auc\n",
              "0   0.468085  0.081937  0.985397  0.139461   0.04623  0.979032"
            ]
          },
          "metadata": {
            "tags": []
          },
          "execution_count": 12
        }
      ]
    },
    {
      "cell_type": "code",
      "metadata": {
        "id": "3TjwRU6JNzmx",
        "colab_type": "code",
        "colab": {
          "base_uri": "https://localhost:8080/",
          "height": 359
        },
        "outputId": "f9af7063-ed8b-4d0e-ae6e-5f1ef3a78799"
      },
      "source": [
        "%%bigquery --project numeric-mote-259221\n",
        "\n",
        "#standardSQL\n",
        "SELECT\n",
        "  country,\n",
        "  SUM(predicted_label) as total_predicted_purchases\n",
        "FROM\n",
        "  ml.PREDICT(MODEL `bqml_tutorial.sample_model`, (\n",
        "SELECT\n",
        "  IFNULL(device.operatingSystem, \"\") AS os,\n",
        "  device.isMobile AS is_mobile,\n",
        "  IFNULL(totals.pageviews, 0) AS pageviews,\n",
        "  IFNULL(geoNetwork.country, \"\") AS country\n",
        "FROM\n",
        "  `bigquery-public-data.google_analytics_sample.ga_sessions_*`\n",
        "WHERE\n",
        "  _TABLE_SUFFIX BETWEEN '20170701' AND '20170801'))\n",
        "GROUP BY country\n",
        "ORDER BY total_predicted_purchases DESC\n",
        "LIMIT 10;"
      ],
      "execution_count": 13,
      "outputs": [
        {
          "output_type": "execute_result",
          "data": {
            "text/html": [
              "<div>\n",
              "<style scoped>\n",
              "    .dataframe tbody tr th:only-of-type {\n",
              "        vertical-align: middle;\n",
              "    }\n",
              "\n",
              "    .dataframe tbody tr th {\n",
              "        vertical-align: top;\n",
              "    }\n",
              "\n",
              "    .dataframe thead th {\n",
              "        text-align: right;\n",
              "    }\n",
              "</style>\n",
              "<table border=\"1\" class=\"dataframe\">\n",
              "  <thead>\n",
              "    <tr style=\"text-align: right;\">\n",
              "      <th></th>\n",
              "      <th>country</th>\n",
              "      <th>total_predicted_purchases</th>\n",
              "    </tr>\n",
              "  </thead>\n",
              "  <tbody>\n",
              "    <tr>\n",
              "      <th>0</th>\n",
              "      <td>United States</td>\n",
              "      <td>167</td>\n",
              "    </tr>\n",
              "    <tr>\n",
              "      <th>1</th>\n",
              "      <td>Taiwan</td>\n",
              "      <td>5</td>\n",
              "    </tr>\n",
              "    <tr>\n",
              "      <th>2</th>\n",
              "      <td>Canada</td>\n",
              "      <td>3</td>\n",
              "    </tr>\n",
              "    <tr>\n",
              "      <th>3</th>\n",
              "      <td>India</td>\n",
              "      <td>2</td>\n",
              "    </tr>\n",
              "    <tr>\n",
              "      <th>4</th>\n",
              "      <td>Indonesia</td>\n",
              "      <td>1</td>\n",
              "    </tr>\n",
              "    <tr>\n",
              "      <th>5</th>\n",
              "      <td>Japan</td>\n",
              "      <td>1</td>\n",
              "    </tr>\n",
              "    <tr>\n",
              "      <th>6</th>\n",
              "      <td>Brazil</td>\n",
              "      <td>1</td>\n",
              "    </tr>\n",
              "    <tr>\n",
              "      <th>7</th>\n",
              "      <td>Germany</td>\n",
              "      <td>1</td>\n",
              "    </tr>\n",
              "    <tr>\n",
              "      <th>8</th>\n",
              "      <td>Venezuela</td>\n",
              "      <td>1</td>\n",
              "    </tr>\n",
              "    <tr>\n",
              "      <th>9</th>\n",
              "      <td>Turkey</td>\n",
              "      <td>1</td>\n",
              "    </tr>\n",
              "  </tbody>\n",
              "</table>\n",
              "</div>"
            ],
            "text/plain": [
              "         country  total_predicted_purchases\n",
              "0  United States                        167\n",
              "1         Taiwan                          5\n",
              "2         Canada                          3\n",
              "3          India                          2\n",
              "4      Indonesia                          1\n",
              "5          Japan                          1\n",
              "6         Brazil                          1\n",
              "7        Germany                          1\n",
              "8      Venezuela                          1\n",
              "9         Turkey                          1"
            ]
          },
          "metadata": {
            "tags": []
          },
          "execution_count": 13
        }
      ]
    },
    {
      "cell_type": "code",
      "metadata": {
        "id": "qYykpFHON6zZ",
        "colab_type": "code",
        "colab": {
          "base_uri": "https://localhost:8080/",
          "height": 359
        },
        "outputId": "72ff70fb-5ba6-4086-c4b8-b3fa0b8a38cd"
      },
      "source": [
        "%%bigquery --project numeric-mote-259221\n",
        "\n",
        "#standardSQL\n",
        "SELECT\n",
        "  fullVisitorId,\n",
        "  SUM(predicted_label) as total_predicted_purchases\n",
        "FROM\n",
        "  ml.PREDICT(MODEL `bqml_tutorial.sample_model`, (\n",
        "SELECT\n",
        "  IFNULL(device.operatingSystem, \"\") AS os,\n",
        "  device.isMobile AS is_mobile,\n",
        "  IFNULL(totals.pageviews, 0) AS pageviews,\n",
        "  IFNULL(geoNetwork.country, \"\") AS country,\n",
        "  fullVisitorId\n",
        "FROM\n",
        "  `bigquery-public-data.google_analytics_sample.ga_sessions_*`\n",
        "WHERE\n",
        "  _TABLE_SUFFIX BETWEEN '20170701' AND '20170801'))\n",
        "GROUP BY fullVisitorId\n",
        "ORDER BY total_predicted_purchases DESC\n",
        "LIMIT 10;"
      ],
      "execution_count": 14,
      "outputs": [
        {
          "output_type": "execute_result",
          "data": {
            "text/html": [
              "<div>\n",
              "<style scoped>\n",
              "    .dataframe tbody tr th:only-of-type {\n",
              "        vertical-align: middle;\n",
              "    }\n",
              "\n",
              "    .dataframe tbody tr th {\n",
              "        vertical-align: top;\n",
              "    }\n",
              "\n",
              "    .dataframe thead th {\n",
              "        text-align: right;\n",
              "    }\n",
              "</style>\n",
              "<table border=\"1\" class=\"dataframe\">\n",
              "  <thead>\n",
              "    <tr style=\"text-align: right;\">\n",
              "      <th></th>\n",
              "      <th>fullVisitorId</th>\n",
              "      <th>total_predicted_purchases</th>\n",
              "    </tr>\n",
              "  </thead>\n",
              "  <tbody>\n",
              "    <tr>\n",
              "      <th>0</th>\n",
              "      <td>9417857471295131045</td>\n",
              "      <td>3</td>\n",
              "    </tr>\n",
              "    <tr>\n",
              "      <th>1</th>\n",
              "      <td>112288330928895942</td>\n",
              "      <td>2</td>\n",
              "    </tr>\n",
              "    <tr>\n",
              "      <th>2</th>\n",
              "      <td>2969418676126258798</td>\n",
              "      <td>2</td>\n",
              "    </tr>\n",
              "    <tr>\n",
              "      <th>3</th>\n",
              "      <td>7420300501523012460</td>\n",
              "      <td>2</td>\n",
              "    </tr>\n",
              "    <tr>\n",
              "      <th>4</th>\n",
              "      <td>2105122376016897629</td>\n",
              "      <td>2</td>\n",
              "    </tr>\n",
              "    <tr>\n",
              "      <th>5</th>\n",
              "      <td>0376394056092189113</td>\n",
              "      <td>2</td>\n",
              "    </tr>\n",
              "    <tr>\n",
              "      <th>6</th>\n",
              "      <td>1280993661204347450</td>\n",
              "      <td>2</td>\n",
              "    </tr>\n",
              "    <tr>\n",
              "      <th>7</th>\n",
              "      <td>8388931032955052746</td>\n",
              "      <td>2</td>\n",
              "    </tr>\n",
              "    <tr>\n",
              "      <th>8</th>\n",
              "      <td>057693500927581077</td>\n",
              "      <td>2</td>\n",
              "    </tr>\n",
              "    <tr>\n",
              "      <th>9</th>\n",
              "      <td>806992249032686650</td>\n",
              "      <td>2</td>\n",
              "    </tr>\n",
              "  </tbody>\n",
              "</table>\n",
              "</div>"
            ],
            "text/plain": [
              "         fullVisitorId  total_predicted_purchases\n",
              "0  9417857471295131045                          3\n",
              "1   112288330928895942                          2\n",
              "2  2969418676126258798                          2\n",
              "3  7420300501523012460                          2\n",
              "4  2105122376016897629                          2\n",
              "5  0376394056092189113                          2\n",
              "6  1280993661204347450                          2\n",
              "7  8388931032955052746                          2\n",
              "8   057693500927581077                          2\n",
              "9   806992249032686650                          2"
            ]
          },
          "metadata": {
            "tags": []
          },
          "execution_count": 14
        }
      ]
    },
    {
      "cell_type": "code",
      "metadata": {
        "id": "xqF0Iy2dPMlB",
        "colab_type": "code",
        "colab": {}
      },
      "source": [
        ""
      ],
      "execution_count": 0,
      "outputs": []
    },
    {
      "cell_type": "markdown",
      "metadata": {
        "id": "KEyab3HwkNuE",
        "colab_type": "text"
      },
      "source": [
        "2"
      ]
    },
    {
      "cell_type": "code",
      "metadata": {
        "id": "qV-ittj0RGKk",
        "colab_type": "code",
        "colab": {
          "base_uri": "https://localhost:8080/",
          "height": 626
        },
        "outputId": "3e45f5c3-f1b1-4288-8c0c-39cb6528134f"
      },
      "source": [
        "%%bigquery --project numeric-mote-259221\n",
        "SELECT\n",
        "  *\n",
        "FROM\n",
        "  `bigquery-public-data.ml_datasets.census_adult_income`\n",
        "LIMIT\n",
        "  100;"
      ],
      "execution_count": 15,
      "outputs": [
        {
          "output_type": "execute_result",
          "data": {
            "text/html": [
              "<div>\n",
              "<style scoped>\n",
              "    .dataframe tbody tr th:only-of-type {\n",
              "        vertical-align: middle;\n",
              "    }\n",
              "\n",
              "    .dataframe tbody tr th {\n",
              "        vertical-align: top;\n",
              "    }\n",
              "\n",
              "    .dataframe thead th {\n",
              "        text-align: right;\n",
              "    }\n",
              "</style>\n",
              "<table border=\"1\" class=\"dataframe\">\n",
              "  <thead>\n",
              "    <tr style=\"text-align: right;\">\n",
              "      <th></th>\n",
              "      <th>age</th>\n",
              "      <th>workclass</th>\n",
              "      <th>functional_weight</th>\n",
              "      <th>education</th>\n",
              "      <th>education_num</th>\n",
              "      <th>marital_status</th>\n",
              "      <th>occupation</th>\n",
              "      <th>relationship</th>\n",
              "      <th>race</th>\n",
              "      <th>sex</th>\n",
              "      <th>capital_gain</th>\n",
              "      <th>capital_loss</th>\n",
              "      <th>hours_per_week</th>\n",
              "      <th>native_country</th>\n",
              "      <th>income_bracket</th>\n",
              "    </tr>\n",
              "  </thead>\n",
              "  <tbody>\n",
              "    <tr>\n",
              "      <th>0</th>\n",
              "      <td>39</td>\n",
              "      <td>Private</td>\n",
              "      <td>297847</td>\n",
              "      <td>9th</td>\n",
              "      <td>5</td>\n",
              "      <td>Married-civ-spouse</td>\n",
              "      <td>Other-service</td>\n",
              "      <td>Wife</td>\n",
              "      <td>Black</td>\n",
              "      <td>Female</td>\n",
              "      <td>3411</td>\n",
              "      <td>0</td>\n",
              "      <td>34</td>\n",
              "      <td>United-States</td>\n",
              "      <td>&lt;=50K</td>\n",
              "    </tr>\n",
              "    <tr>\n",
              "      <th>1</th>\n",
              "      <td>72</td>\n",
              "      <td>Private</td>\n",
              "      <td>74141</td>\n",
              "      <td>9th</td>\n",
              "      <td>5</td>\n",
              "      <td>Married-civ-spouse</td>\n",
              "      <td>Exec-managerial</td>\n",
              "      <td>Wife</td>\n",
              "      <td>Asian-Pac-Islander</td>\n",
              "      <td>Female</td>\n",
              "      <td>0</td>\n",
              "      <td>0</td>\n",
              "      <td>48</td>\n",
              "      <td>United-States</td>\n",
              "      <td>&gt;50K</td>\n",
              "    </tr>\n",
              "    <tr>\n",
              "      <th>2</th>\n",
              "      <td>45</td>\n",
              "      <td>Private</td>\n",
              "      <td>178215</td>\n",
              "      <td>9th</td>\n",
              "      <td>5</td>\n",
              "      <td>Married-civ-spouse</td>\n",
              "      <td>Machine-op-inspct</td>\n",
              "      <td>Wife</td>\n",
              "      <td>White</td>\n",
              "      <td>Female</td>\n",
              "      <td>0</td>\n",
              "      <td>0</td>\n",
              "      <td>40</td>\n",
              "      <td>United-States</td>\n",
              "      <td>&gt;50K</td>\n",
              "    </tr>\n",
              "    <tr>\n",
              "      <th>3</th>\n",
              "      <td>31</td>\n",
              "      <td>Private</td>\n",
              "      <td>86958</td>\n",
              "      <td>9th</td>\n",
              "      <td>5</td>\n",
              "      <td>Married-civ-spouse</td>\n",
              "      <td>Exec-managerial</td>\n",
              "      <td>Wife</td>\n",
              "      <td>White</td>\n",
              "      <td>Female</td>\n",
              "      <td>0</td>\n",
              "      <td>0</td>\n",
              "      <td>40</td>\n",
              "      <td>United-States</td>\n",
              "      <td>&lt;=50K</td>\n",
              "    </tr>\n",
              "    <tr>\n",
              "      <th>4</th>\n",
              "      <td>55</td>\n",
              "      <td>Private</td>\n",
              "      <td>176012</td>\n",
              "      <td>9th</td>\n",
              "      <td>5</td>\n",
              "      <td>Married-civ-spouse</td>\n",
              "      <td>Tech-support</td>\n",
              "      <td>Wife</td>\n",
              "      <td>White</td>\n",
              "      <td>Female</td>\n",
              "      <td>0</td>\n",
              "      <td>0</td>\n",
              "      <td>23</td>\n",
              "      <td>United-States</td>\n",
              "      <td>&lt;=50K</td>\n",
              "    </tr>\n",
              "    <tr>\n",
              "      <th>...</th>\n",
              "      <td>...</td>\n",
              "      <td>...</td>\n",
              "      <td>...</td>\n",
              "      <td>...</td>\n",
              "      <td>...</td>\n",
              "      <td>...</td>\n",
              "      <td>...</td>\n",
              "      <td>...</td>\n",
              "      <td>...</td>\n",
              "      <td>...</td>\n",
              "      <td>...</td>\n",
              "      <td>...</td>\n",
              "      <td>...</td>\n",
              "      <td>...</td>\n",
              "      <td>...</td>\n",
              "    </tr>\n",
              "    <tr>\n",
              "      <th>95</th>\n",
              "      <td>30</td>\n",
              "      <td>Local-gov</td>\n",
              "      <td>48542</td>\n",
              "      <td>12th</td>\n",
              "      <td>8</td>\n",
              "      <td>Married-civ-spouse</td>\n",
              "      <td>Adm-clerical</td>\n",
              "      <td>Wife</td>\n",
              "      <td>White</td>\n",
              "      <td>Female</td>\n",
              "      <td>0</td>\n",
              "      <td>0</td>\n",
              "      <td>40</td>\n",
              "      <td>United-States</td>\n",
              "      <td>&lt;=50K</td>\n",
              "    </tr>\n",
              "    <tr>\n",
              "      <th>96</th>\n",
              "      <td>53</td>\n",
              "      <td>?</td>\n",
              "      <td>155233</td>\n",
              "      <td>12th</td>\n",
              "      <td>8</td>\n",
              "      <td>Married-civ-spouse</td>\n",
              "      <td>?</td>\n",
              "      <td>Wife</td>\n",
              "      <td>White</td>\n",
              "      <td>Female</td>\n",
              "      <td>0</td>\n",
              "      <td>0</td>\n",
              "      <td>40</td>\n",
              "      <td>Italy</td>\n",
              "      <td>&lt;=50K</td>\n",
              "    </tr>\n",
              "    <tr>\n",
              "      <th>97</th>\n",
              "      <td>52</td>\n",
              "      <td>?</td>\n",
              "      <td>89951</td>\n",
              "      <td>12th</td>\n",
              "      <td>8</td>\n",
              "      <td>Married-civ-spouse</td>\n",
              "      <td>?</td>\n",
              "      <td>Wife</td>\n",
              "      <td>Black</td>\n",
              "      <td>Female</td>\n",
              "      <td>0</td>\n",
              "      <td>0</td>\n",
              "      <td>40</td>\n",
              "      <td>United-States</td>\n",
              "      <td>&gt;50K</td>\n",
              "    </tr>\n",
              "    <tr>\n",
              "      <th>98</th>\n",
              "      <td>45</td>\n",
              "      <td>Private</td>\n",
              "      <td>81400</td>\n",
              "      <td>1st-4th</td>\n",
              "      <td>2</td>\n",
              "      <td>Married-civ-spouse</td>\n",
              "      <td>Other-service</td>\n",
              "      <td>Wife</td>\n",
              "      <td>White</td>\n",
              "      <td>Female</td>\n",
              "      <td>0</td>\n",
              "      <td>0</td>\n",
              "      <td>25</td>\n",
              "      <td>El-Salvador</td>\n",
              "      <td>&lt;=50K</td>\n",
              "    </tr>\n",
              "    <tr>\n",
              "      <th>99</th>\n",
              "      <td>45</td>\n",
              "      <td>Private</td>\n",
              "      <td>320192</td>\n",
              "      <td>1st-4th</td>\n",
              "      <td>2</td>\n",
              "      <td>Married-civ-spouse</td>\n",
              "      <td>Other-service</td>\n",
              "      <td>Wife</td>\n",
              "      <td>White</td>\n",
              "      <td>Female</td>\n",
              "      <td>0</td>\n",
              "      <td>0</td>\n",
              "      <td>40</td>\n",
              "      <td>United-States</td>\n",
              "      <td>&lt;=50K</td>\n",
              "    </tr>\n",
              "  </tbody>\n",
              "</table>\n",
              "<p>100 rows × 15 columns</p>\n",
              "</div>"
            ],
            "text/plain": [
              "    age   workclass  ...  native_country income_bracket\n",
              "0    39     Private  ...   United-States          <=50K\n",
              "1    72     Private  ...   United-States           >50K\n",
              "2    45     Private  ...   United-States           >50K\n",
              "3    31     Private  ...   United-States          <=50K\n",
              "4    55     Private  ...   United-States          <=50K\n",
              "..  ...         ...  ...             ...            ...\n",
              "95   30   Local-gov  ...   United-States          <=50K\n",
              "96   53           ?  ...           Italy          <=50K\n",
              "97   52           ?  ...   United-States           >50K\n",
              "98   45     Private  ...     El-Salvador          <=50K\n",
              "99   45     Private  ...   United-States          <=50K\n",
              "\n",
              "[100 rows x 15 columns]"
            ]
          },
          "metadata": {
            "tags": []
          },
          "execution_count": 15
        }
      ]
    },
    {
      "cell_type": "code",
      "metadata": {
        "id": "Zom7BkjkRvkg",
        "colab_type": "code",
        "colab": {
          "base_uri": "https://localhost:8080/",
          "height": 32
        },
        "outputId": "b91cfbe4-8a82-4da6-d25c-579679969f46"
      },
      "source": [
        "%%bigquery --project numeric-mote-259221\n",
        "\n",
        "CREATE OR REPLACE VIEW\n",
        "  `census.input_view` AS\n",
        "SELECT\n",
        "  age,\n",
        "  workclass,\n",
        "  native_country,\n",
        "  marital_status,\n",
        "  education_num,\n",
        "  occupation,\n",
        "  race,\n",
        "  hours_per_week,\n",
        "  income_bracket,\n",
        "  CASE\n",
        "    WHEN MOD(functional_weight, 10) < 8 THEN 'training'\n",
        "    WHEN MOD(functional_weight, 10) = 8 THEN 'evaluation'\n",
        "    WHEN MOD(functional_weight, 10) = 9 THEN 'prediction'\n",
        "  END AS dataframe\n",
        "FROM\n",
        "  `bigquery-public-data.ml_datasets.census_adult_income`"
      ],
      "execution_count": 16,
      "outputs": [
        {
          "output_type": "execute_result",
          "data": {
            "text/html": [
              "<div>\n",
              "<style scoped>\n",
              "    .dataframe tbody tr th:only-of-type {\n",
              "        vertical-align: middle;\n",
              "    }\n",
              "\n",
              "    .dataframe tbody tr th {\n",
              "        vertical-align: top;\n",
              "    }\n",
              "\n",
              "    .dataframe thead th {\n",
              "        text-align: right;\n",
              "    }\n",
              "</style>\n",
              "<table border=\"1\" class=\"dataframe\">\n",
              "  <thead>\n",
              "    <tr style=\"text-align: right;\">\n",
              "      <th></th>\n",
              "    </tr>\n",
              "  </thead>\n",
              "  <tbody>\n",
              "  </tbody>\n",
              "</table>\n",
              "</div>"
            ],
            "text/plain": [
              "Empty DataFrame\n",
              "Columns: []\n",
              "Index: []"
            ]
          },
          "metadata": {
            "tags": []
          },
          "execution_count": 16
        }
      ]
    },
    {
      "cell_type": "code",
      "metadata": {
        "id": "shIE5PO-SEdm",
        "colab_type": "code",
        "colab": {
          "base_uri": "https://localhost:8080/",
          "height": 32
        },
        "outputId": "df0ce85c-58c0-4b8e-d414-4a9e0f489067"
      },
      "source": [
        "%%bigquery --project numeric-mote-259221\n",
        "\n",
        "CREATE OR REPLACE MODEL\n",
        "  `census.census_model`\n",
        "OPTIONS\n",
        "  ( model_type='LOGISTIC_REG',\n",
        "    auto_class_weights=TRUE,\n",
        "    data_split_method='NO_SPLIT',\n",
        "    input_label_cols=['income_bracket'],\n",
        "    max_iterations=15) AS\n",
        "SELECT\n",
        "  *\n",
        "FROM\n",
        "  `census.input_view`\n",
        "WHERE\n",
        "  dataframe = 'training'"
      ],
      "execution_count": 17,
      "outputs": [
        {
          "output_type": "execute_result",
          "data": {
            "text/html": [
              "<div>\n",
              "<style scoped>\n",
              "    .dataframe tbody tr th:only-of-type {\n",
              "        vertical-align: middle;\n",
              "    }\n",
              "\n",
              "    .dataframe tbody tr th {\n",
              "        vertical-align: top;\n",
              "    }\n",
              "\n",
              "    .dataframe thead th {\n",
              "        text-align: right;\n",
              "    }\n",
              "</style>\n",
              "<table border=\"1\" class=\"dataframe\">\n",
              "  <thead>\n",
              "    <tr style=\"text-align: right;\">\n",
              "      <th></th>\n",
              "    </tr>\n",
              "  </thead>\n",
              "  <tbody>\n",
              "  </tbody>\n",
              "</table>\n",
              "</div>"
            ],
            "text/plain": [
              "Empty DataFrame\n",
              "Columns: []\n",
              "Index: []"
            ]
          },
          "metadata": {
            "tags": []
          },
          "execution_count": 17
        }
      ]
    },
    {
      "cell_type": "code",
      "metadata": {
        "id": "bH_TVXZySLwx",
        "colab_type": "code",
        "colab": {
          "base_uri": "https://localhost:8080/",
          "height": 80
        },
        "outputId": "48f35a83-49b5-4e1b-d535-50007d53d1ce"
      },
      "source": [
        "%%bigquery --project numeric-mote-259221\n",
        "\n",
        "SELECT\n",
        "  *\n",
        "FROM\n",
        "  ML.EVALUATE (MODEL `census.census_model`,\n",
        "    (\n",
        "    SELECT\n",
        "      *\n",
        "    FROM\n",
        "      `census.input_view`\n",
        "    WHERE\n",
        "      dataframe = 'evaluation'\n",
        "    )\n",
        "  )"
      ],
      "execution_count": 18,
      "outputs": [
        {
          "output_type": "execute_result",
          "data": {
            "text/html": [
              "<div>\n",
              "<style scoped>\n",
              "    .dataframe tbody tr th:only-of-type {\n",
              "        vertical-align: middle;\n",
              "    }\n",
              "\n",
              "    .dataframe tbody tr th {\n",
              "        vertical-align: top;\n",
              "    }\n",
              "\n",
              "    .dataframe thead th {\n",
              "        text-align: right;\n",
              "    }\n",
              "</style>\n",
              "<table border=\"1\" class=\"dataframe\">\n",
              "  <thead>\n",
              "    <tr style=\"text-align: right;\">\n",
              "      <th></th>\n",
              "      <th>precision</th>\n",
              "      <th>recall</th>\n",
              "      <th>accuracy</th>\n",
              "      <th>f1_score</th>\n",
              "      <th>log_loss</th>\n",
              "      <th>roc_auc</th>\n",
              "    </tr>\n",
              "  </thead>\n",
              "  <tbody>\n",
              "    <tr>\n",
              "      <th>0</th>\n",
              "      <td>0.553977</td>\n",
              "      <td>0.794837</td>\n",
              "      <td>0.807192</td>\n",
              "      <td>0.652902</td>\n",
              "      <td>0.412177</td>\n",
              "      <td>0.882952</td>\n",
              "    </tr>\n",
              "  </tbody>\n",
              "</table>\n",
              "</div>"
            ],
            "text/plain": [
              "   precision    recall  accuracy  f1_score  log_loss   roc_auc\n",
              "0   0.553977  0.794837  0.807192  0.652902  0.412177  0.882952"
            ]
          },
          "metadata": {
            "tags": []
          },
          "execution_count": 18
        }
      ]
    },
    {
      "cell_type": "code",
      "metadata": {
        "id": "NkWmQUYUSSJx",
        "colab_type": "code",
        "colab": {
          "base_uri": "https://localhost:8080/",
          "height": 626
        },
        "outputId": "b27cc443-57f5-4731-f8a1-0952dcb60bfc"
      },
      "source": [
        "%%bigquery --project numeric-mote-259221\n",
        "\n",
        "SELECT\n",
        "  *\n",
        "FROM\n",
        "  ML.PREDICT (MODEL `census.census_model`,\n",
        "    (\n",
        "    SELECT\n",
        "      *\n",
        "    FROM\n",
        "      `census.input_view`\n",
        "    WHERE\n",
        "      dataframe = 'prediction'\n",
        "     )\n",
        "  )"
      ],
      "execution_count": 19,
      "outputs": [
        {
          "output_type": "execute_result",
          "data": {
            "text/html": [
              "<div>\n",
              "<style scoped>\n",
              "    .dataframe tbody tr th:only-of-type {\n",
              "        vertical-align: middle;\n",
              "    }\n",
              "\n",
              "    .dataframe tbody tr th {\n",
              "        vertical-align: top;\n",
              "    }\n",
              "\n",
              "    .dataframe thead th {\n",
              "        text-align: right;\n",
              "    }\n",
              "</style>\n",
              "<table border=\"1\" class=\"dataframe\">\n",
              "  <thead>\n",
              "    <tr style=\"text-align: right;\">\n",
              "      <th></th>\n",
              "      <th>predicted_income_bracket</th>\n",
              "      <th>predicted_income_bracket_probs</th>\n",
              "      <th>age</th>\n",
              "      <th>workclass</th>\n",
              "      <th>native_country</th>\n",
              "      <th>marital_status</th>\n",
              "      <th>education_num</th>\n",
              "      <th>occupation</th>\n",
              "      <th>race</th>\n",
              "      <th>hours_per_week</th>\n",
              "      <th>income_bracket</th>\n",
              "      <th>dataframe</th>\n",
              "    </tr>\n",
              "  </thead>\n",
              "  <tbody>\n",
              "    <tr>\n",
              "      <th>0</th>\n",
              "      <td>&lt;=50K</td>\n",
              "      <td>[{'label': ' &gt;50K', 'prob': 0.1891482573116060...</td>\n",
              "      <td>52</td>\n",
              "      <td>Local-gov</td>\n",
              "      <td>United-States</td>\n",
              "      <td>Married-civ-spouse</td>\n",
              "      <td>5</td>\n",
              "      <td>Other-service</td>\n",
              "      <td>White</td>\n",
              "      <td>40</td>\n",
              "      <td>&lt;=50K</td>\n",
              "      <td>prediction</td>\n",
              "    </tr>\n",
              "    <tr>\n",
              "      <th>1</th>\n",
              "      <td>&lt;=50K</td>\n",
              "      <td>[{'label': ' &gt;50K', 'prob': 0.0917142831148600...</td>\n",
              "      <td>34</td>\n",
              "      <td>?</td>\n",
              "      <td>United-States</td>\n",
              "      <td>Married-civ-spouse</td>\n",
              "      <td>7</td>\n",
              "      <td>?</td>\n",
              "      <td>White</td>\n",
              "      <td>8</td>\n",
              "      <td>&lt;=50K</td>\n",
              "      <td>prediction</td>\n",
              "    </tr>\n",
              "    <tr>\n",
              "      <th>2</th>\n",
              "      <td>&lt;=50K</td>\n",
              "      <td>[{'label': ' &gt;50K', 'prob': 0.2978379336023622...</td>\n",
              "      <td>47</td>\n",
              "      <td>Private</td>\n",
              "      <td>United-States</td>\n",
              "      <td>Married-civ-spouse</td>\n",
              "      <td>7</td>\n",
              "      <td>Machine-op-inspct</td>\n",
              "      <td>Black</td>\n",
              "      <td>40</td>\n",
              "      <td>&lt;=50K</td>\n",
              "      <td>prediction</td>\n",
              "    </tr>\n",
              "    <tr>\n",
              "      <th>3</th>\n",
              "      <td>&lt;=50K</td>\n",
              "      <td>[{'label': ' &gt;50K', 'prob': 0.1744424535409649...</td>\n",
              "      <td>43</td>\n",
              "      <td>Private</td>\n",
              "      <td>United-States</td>\n",
              "      <td>Married-civ-spouse</td>\n",
              "      <td>7</td>\n",
              "      <td>Handlers-cleaners</td>\n",
              "      <td>White</td>\n",
              "      <td>25</td>\n",
              "      <td>&lt;=50K</td>\n",
              "      <td>prediction</td>\n",
              "    </tr>\n",
              "    <tr>\n",
              "      <th>4</th>\n",
              "      <td>&lt;=50K</td>\n",
              "      <td>[{'label': ' &gt;50K', 'prob': 0.3223656785315964...</td>\n",
              "      <td>54</td>\n",
              "      <td>Private</td>\n",
              "      <td>United-States</td>\n",
              "      <td>Married-civ-spouse</td>\n",
              "      <td>7</td>\n",
              "      <td>Other-service</td>\n",
              "      <td>White</td>\n",
              "      <td>43</td>\n",
              "      <td>&lt;=50K</td>\n",
              "      <td>prediction</td>\n",
              "    </tr>\n",
              "    <tr>\n",
              "      <th>...</th>\n",
              "      <td>...</td>\n",
              "      <td>...</td>\n",
              "      <td>...</td>\n",
              "      <td>...</td>\n",
              "      <td>...</td>\n",
              "      <td>...</td>\n",
              "      <td>...</td>\n",
              "      <td>...</td>\n",
              "      <td>...</td>\n",
              "      <td>...</td>\n",
              "      <td>...</td>\n",
              "      <td>...</td>\n",
              "    </tr>\n",
              "    <tr>\n",
              "      <th>3137</th>\n",
              "      <td>&lt;=50K</td>\n",
              "      <td>[{'label': ' &gt;50K', 'prob': 0.0359979067711647...</td>\n",
              "      <td>23</td>\n",
              "      <td>Private</td>\n",
              "      <td>United-States</td>\n",
              "      <td>Never-married</td>\n",
              "      <td>10</td>\n",
              "      <td>Other-service</td>\n",
              "      <td>White</td>\n",
              "      <td>40</td>\n",
              "      <td>&lt;=50K</td>\n",
              "      <td>prediction</td>\n",
              "    </tr>\n",
              "    <tr>\n",
              "      <th>3138</th>\n",
              "      <td>&lt;=50K</td>\n",
              "      <td>[{'label': ' &gt;50K', 'prob': 0.0521848424868671...</td>\n",
              "      <td>35</td>\n",
              "      <td>Private</td>\n",
              "      <td>United-States</td>\n",
              "      <td>Never-married</td>\n",
              "      <td>10</td>\n",
              "      <td>Machine-op-inspct</td>\n",
              "      <td>Amer-Indian-Eskimo</td>\n",
              "      <td>40</td>\n",
              "      <td>&lt;=50K</td>\n",
              "      <td>prediction</td>\n",
              "    </tr>\n",
              "    <tr>\n",
              "      <th>3139</th>\n",
              "      <td>&lt;=50K</td>\n",
              "      <td>[{'label': ' &gt;50K', 'prob': 0.0280517115841698...</td>\n",
              "      <td>19</td>\n",
              "      <td>?</td>\n",
              "      <td>United-States</td>\n",
              "      <td>Never-married</td>\n",
              "      <td>10</td>\n",
              "      <td>?</td>\n",
              "      <td>White</td>\n",
              "      <td>30</td>\n",
              "      <td>&lt;=50K</td>\n",
              "      <td>prediction</td>\n",
              "    </tr>\n",
              "    <tr>\n",
              "      <th>3140</th>\n",
              "      <td>&lt;=50K</td>\n",
              "      <td>[{'label': ' &gt;50K', 'prob': 0.0276128468409307...</td>\n",
              "      <td>26</td>\n",
              "      <td>Private</td>\n",
              "      <td>?</td>\n",
              "      <td>Never-married</td>\n",
              "      <td>10</td>\n",
              "      <td>Handlers-cleaners</td>\n",
              "      <td>Black</td>\n",
              "      <td>40</td>\n",
              "      <td>&lt;=50K</td>\n",
              "      <td>prediction</td>\n",
              "    </tr>\n",
              "    <tr>\n",
              "      <th>3141</th>\n",
              "      <td>&lt;=50K</td>\n",
              "      <td>[{'label': ' &gt;50K', 'prob': 0.0894501236543127...</td>\n",
              "      <td>21</td>\n",
              "      <td>Private</td>\n",
              "      <td>United-States</td>\n",
              "      <td>Never-married</td>\n",
              "      <td>10</td>\n",
              "      <td>Sales</td>\n",
              "      <td>White</td>\n",
              "      <td>40</td>\n",
              "      <td>&lt;=50K</td>\n",
              "      <td>prediction</td>\n",
              "    </tr>\n",
              "  </tbody>\n",
              "</table>\n",
              "<p>3142 rows × 12 columns</p>\n",
              "</div>"
            ],
            "text/plain": [
              "     predicted_income_bracket  ...   dataframe\n",
              "0                       <=50K  ...  prediction\n",
              "1                       <=50K  ...  prediction\n",
              "2                       <=50K  ...  prediction\n",
              "3                       <=50K  ...  prediction\n",
              "4                       <=50K  ...  prediction\n",
              "...                       ...  ...         ...\n",
              "3137                    <=50K  ...  prediction\n",
              "3138                    <=50K  ...  prediction\n",
              "3139                    <=50K  ...  prediction\n",
              "3140                    <=50K  ...  prediction\n",
              "3141                    <=50K  ...  prediction\n",
              "\n",
              "[3142 rows x 12 columns]"
            ]
          },
          "metadata": {
            "tags": []
          },
          "execution_count": 19
        }
      ]
    },
    {
      "cell_type": "code",
      "metadata": {
        "id": "tUmmsJRpSZVE",
        "colab_type": "code",
        "colab": {}
      },
      "source": [
        ""
      ],
      "execution_count": 0,
      "outputs": []
    },
    {
      "cell_type": "markdown",
      "metadata": {
        "id": "G4Won5pEkPYb",
        "colab_type": "text"
      },
      "source": [
        "3"
      ]
    },
    {
      "cell_type": "code",
      "metadata": {
        "id": "Fju5-TvZSxsR",
        "colab_type": "code",
        "colab": {
          "base_uri": "https://localhost:8080/",
          "height": 419
        },
        "outputId": "c82bc743-5dd6-4156-cb83-7fa337d8bc68"
      },
      "source": [
        "%%bigquery --project numeric-mote-259221\n",
        "\n",
        "WITH\n",
        "  hs AS (\n",
        "  SELECT\n",
        "    h.start_station_name AS station_name,\n",
        "    h.duration,\n",
        "    ST_DISTANCE(ST_GEOGPOINT(s.longitude,\n",
        "        s.latitude),\n",
        "      ST_GEOGPOINT(-0.1,\n",
        "        51.5))/1000 AS distance_from_city_center\n",
        "  FROM\n",
        "    `bigquery-public-data.london_bicycles.cycle_hire` AS h\n",
        "  JOIN\n",
        "    `bigquery-public-data.london_bicycles.cycle_stations` AS s\n",
        "  ON\n",
        "    h.start_station_id = s.id\n",
        "  WHERE\n",
        "    h.start_date BETWEEN CAST('2015-01-01 00:00:00' AS TIMESTAMP)\n",
        "    AND CAST('2016-01-01 00:00:00' AS TIMESTAMP) ),\n",
        "  stationstats AS (\n",
        "  SELECT\n",
        "    station_name,\n",
        "    AVG(duration) AS duration,\n",
        "    COUNT(duration) AS num_trips,\n",
        "    MAX(distance_from_city_center) AS distance_from_city_center\n",
        "  FROM\n",
        "    hs\n",
        "  GROUP BY\n",
        "    station_name )\n",
        "SELECT\n",
        "  *\n",
        "FROM\n",
        "  stationstats\n",
        "ORDER BY\n",
        "  distance_from_city_center ASC"
      ],
      "execution_count": 20,
      "outputs": [
        {
          "output_type": "execute_result",
          "data": {
            "text/html": [
              "<div>\n",
              "<style scoped>\n",
              "    .dataframe tbody tr th:only-of-type {\n",
              "        vertical-align: middle;\n",
              "    }\n",
              "\n",
              "    .dataframe tbody tr th {\n",
              "        vertical-align: top;\n",
              "    }\n",
              "\n",
              "    .dataframe thead th {\n",
              "        text-align: right;\n",
              "    }\n",
              "</style>\n",
              "<table border=\"1\" class=\"dataframe\">\n",
              "  <thead>\n",
              "    <tr style=\"text-align: right;\">\n",
              "      <th></th>\n",
              "      <th>station_name</th>\n",
              "      <th>duration</th>\n",
              "      <th>num_trips</th>\n",
              "      <th>distance_from_city_center</th>\n",
              "    </tr>\n",
              "  </thead>\n",
              "  <tbody>\n",
              "    <tr>\n",
              "      <th>0</th>\n",
              "      <td>Borough Road, Elephant &amp; Castle</td>\n",
              "      <td>1349.318091</td>\n",
              "      <td>7523</td>\n",
              "      <td>0.126240</td>\n",
              "    </tr>\n",
              "    <tr>\n",
              "      <th>1</th>\n",
              "      <td>Webber Street , Southwark</td>\n",
              "      <td>823.879056</td>\n",
              "      <td>8136</td>\n",
              "      <td>0.164021</td>\n",
              "    </tr>\n",
              "    <tr>\n",
              "      <th>2</th>\n",
              "      <td>Great Suffolk Street, The Borough</td>\n",
              "      <td>844.355487</td>\n",
              "      <td>10442</td>\n",
              "      <td>0.193667</td>\n",
              "    </tr>\n",
              "    <tr>\n",
              "      <th>3</th>\n",
              "      <td>LSBU (Borough Road), Elephant &amp; Castle</td>\n",
              "      <td>1297.835314</td>\n",
              "      <td>7068</td>\n",
              "      <td>0.257903</td>\n",
              "    </tr>\n",
              "    <tr>\n",
              "      <th>4</th>\n",
              "      <td>Harper Road, Borough</td>\n",
              "      <td>822.686747</td>\n",
              "      <td>1660</td>\n",
              "      <td>0.306306</td>\n",
              "    </tr>\n",
              "    <tr>\n",
              "      <th>...</th>\n",
              "      <td>...</td>\n",
              "      <td>...</td>\n",
              "      <td>...</td>\n",
              "      <td>...</td>\n",
              "    </tr>\n",
              "    <tr>\n",
              "      <th>789</th>\n",
              "      <td>Bridge Avenue, Hammersmith</td>\n",
              "      <td>2269.098519</td>\n",
              "      <td>9318</td>\n",
              "      <td>8.981545</td>\n",
              "    </tr>\n",
              "    <tr>\n",
              "      <th>790</th>\n",
              "      <td>Montserrat Road , Putney</td>\n",
              "      <td>2648.183079</td>\n",
              "      <td>4326</td>\n",
              "      <td>8.986740</td>\n",
              "    </tr>\n",
              "    <tr>\n",
              "      <th>791</th>\n",
              "      <td>Disraeli Road, Putney</td>\n",
              "      <td>1777.219098</td>\n",
              "      <td>8357</td>\n",
              "      <td>9.105643</td>\n",
              "    </tr>\n",
              "    <tr>\n",
              "      <th>792</th>\n",
              "      <td>Putney Rail Station, Putney</td>\n",
              "      <td>3715.898645</td>\n",
              "      <td>3394</td>\n",
              "      <td>9.175861</td>\n",
              "    </tr>\n",
              "    <tr>\n",
              "      <th>793</th>\n",
              "      <td>Ravenscourt Park Station, Hammersmith</td>\n",
              "      <td>2389.594064</td>\n",
              "      <td>6873</td>\n",
              "      <td>9.489655</td>\n",
              "    </tr>\n",
              "  </tbody>\n",
              "</table>\n",
              "<p>794 rows × 4 columns</p>\n",
              "</div>"
            ],
            "text/plain": [
              "                               station_name  ...  distance_from_city_center\n",
              "0           Borough Road, Elephant & Castle  ...                   0.126240\n",
              "1                 Webber Street , Southwark  ...                   0.164021\n",
              "2         Great Suffolk Street, The Borough  ...                   0.193667\n",
              "3    LSBU (Borough Road), Elephant & Castle  ...                   0.257903\n",
              "4                      Harper Road, Borough  ...                   0.306306\n",
              "..                                      ...  ...                        ...\n",
              "789              Bridge Avenue, Hammersmith  ...                   8.981545\n",
              "790                Montserrat Road , Putney  ...                   8.986740\n",
              "791                   Disraeli Road, Putney  ...                   9.105643\n",
              "792             Putney Rail Station, Putney  ...                   9.175861\n",
              "793   Ravenscourt Park Station, Hammersmith  ...                   9.489655\n",
              "\n",
              "[794 rows x 4 columns]"
            ]
          },
          "metadata": {
            "tags": []
          },
          "execution_count": 20
        }
      ]
    },
    {
      "cell_type": "code",
      "metadata": {
        "id": "K6sNhPm1TdAP",
        "colab_type": "code",
        "colab": {
          "base_uri": "https://localhost:8080/",
          "height": 32
        },
        "outputId": "e9b7d6cd-34e3-4822-f99f-6f2f9504e500"
      },
      "source": [
        "%%bigquery --project numeric-mote-259221\n",
        "\n",
        "CREATE OR REPLACE MODEL\n",
        "  bqml_tutorial.london_station_clusters OPTIONS(model_type='kmeans',\n",
        "    num_clusters=4) AS\n",
        "WITH\n",
        "  hs AS (\n",
        "  SELECT\n",
        "    h.start_station_name AS station_name,\n",
        "  IF\n",
        "    (EXTRACT(DAYOFWEEK\n",
        "      FROM\n",
        "        h.start_date) = 1\n",
        "      OR EXTRACT(DAYOFWEEK\n",
        "      FROM\n",
        "        h.start_date) = 7,\n",
        "      \"weekend\",\n",
        "      \"weekday\") AS isweekday,\n",
        "    h.duration,\n",
        "    ST_DISTANCE(ST_GEOGPOINT(s.longitude,\n",
        "        s.latitude),\n",
        "      ST_GEOGPOINT(-0.1,\n",
        "        51.5))/1000 AS distance_from_city_center\n",
        "  FROM\n",
        "    `bigquery-public-data.london_bicycles.cycle_hire` AS h\n",
        "  JOIN\n",
        "    `bigquery-public-data.london_bicycles.cycle_stations` AS s\n",
        "  ON\n",
        "    h.start_station_id = s.id\n",
        "  WHERE\n",
        "    h.start_date BETWEEN CAST('2015-01-01 00:00:00' AS TIMESTAMP)\n",
        "    AND CAST('2016-01-01 00:00:00' AS TIMESTAMP) ),\n",
        "  stationstats AS (\n",
        "  SELECT\n",
        "    station_name,\n",
        "    isweekday,\n",
        "    AVG(duration) AS duration,\n",
        "    COUNT(duration) AS num_trips,\n",
        "    MAX(distance_from_city_center) AS distance_from_city_center\n",
        "  FROM\n",
        "    hs\n",
        "  GROUP BY\n",
        "    station_name, isweekday)\n",
        "SELECT\n",
        "  * EXCEPT(station_name, isweekday)\n",
        "FROM\n",
        "  stationstats"
      ],
      "execution_count": 21,
      "outputs": [
        {
          "output_type": "execute_result",
          "data": {
            "text/html": [
              "<div>\n",
              "<style scoped>\n",
              "    .dataframe tbody tr th:only-of-type {\n",
              "        vertical-align: middle;\n",
              "    }\n",
              "\n",
              "    .dataframe tbody tr th {\n",
              "        vertical-align: top;\n",
              "    }\n",
              "\n",
              "    .dataframe thead th {\n",
              "        text-align: right;\n",
              "    }\n",
              "</style>\n",
              "<table border=\"1\" class=\"dataframe\">\n",
              "  <thead>\n",
              "    <tr style=\"text-align: right;\">\n",
              "      <th></th>\n",
              "    </tr>\n",
              "  </thead>\n",
              "  <tbody>\n",
              "  </tbody>\n",
              "</table>\n",
              "</div>"
            ],
            "text/plain": [
              "Empty DataFrame\n",
              "Columns: []\n",
              "Index: []"
            ]
          },
          "metadata": {
            "tags": []
          },
          "execution_count": 21
        }
      ]
    },
    {
      "cell_type": "code",
      "metadata": {
        "id": "MTQDS2LTTk0h",
        "colab_type": "code",
        "colab": {
          "base_uri": "https://localhost:8080/",
          "height": 328
        },
        "outputId": "c2fb3262-9649-4d16-f402-87c8f11cc145"
      },
      "source": [
        "%%bigquery --project numeric-mote-259221\n",
        "\n",
        "WITH\n",
        "  hs AS (\n",
        "  SELECT\n",
        "    h.start_station_name AS station_name,\n",
        "    h.duration,\n",
        "    ST_DISTANCE(ST_GEOGPOINT(s.longitude,\n",
        "        s.latitude),\n",
        "      ST_GEOGPOINT(-0.1,\n",
        "        51.5))/1000 AS distance_from_city_center\n",
        "  FROM\n",
        "    `bigquery-public-data.london_bicycles.cycle_hire` AS h\n",
        "  JOIN\n",
        "    `bigquery-public-data.london_bicycles.cycle_stations` AS s\n",
        "  ON\n",
        "    h.start_station_id = s.id\n",
        "  WHERE\n",
        "    h.start_date BETWEEN CAST('2015-01-01 00:00:00' AS TIMESTAMP)\n",
        "    AND CAST('2016-01-01 00:00:00' AS TIMESTAMP) ),\n",
        "  stationstats AS (\n",
        "  SELECT\n",
        "    station_name,\n",
        "    AVG(duration) AS duration,\n",
        "    COUNT(duration) AS num_trips,\n",
        "    MAX(distance_from_city_center) AS distance_from_city_center\n",
        "  FROM\n",
        "    hs\n",
        "  GROUP BY\n",
        "    station_name )\n",
        "SELECT\n",
        "  * EXCEPT(nearest_centroids_distance)\n",
        "FROM\n",
        "  ML.PREDICT( MODEL bqml_tutorial.london_station_clusters,\n",
        "    (\n",
        "    SELECT\n",
        "      *\n",
        "    FROM\n",
        "      stationstats\n",
        "    WHERE\n",
        "      REGEXP_CONTAINS(station_name, 'Kennington')))"
      ],
      "execution_count": 22,
      "outputs": [
        {
          "output_type": "execute_result",
          "data": {
            "text/html": [
              "<div>\n",
              "<style scoped>\n",
              "    .dataframe tbody tr th:only-of-type {\n",
              "        vertical-align: middle;\n",
              "    }\n",
              "\n",
              "    .dataframe tbody tr th {\n",
              "        vertical-align: top;\n",
              "    }\n",
              "\n",
              "    .dataframe thead th {\n",
              "        text-align: right;\n",
              "    }\n",
              "</style>\n",
              "<table border=\"1\" class=\"dataframe\">\n",
              "  <thead>\n",
              "    <tr style=\"text-align: right;\">\n",
              "      <th></th>\n",
              "      <th>CENTROID_ID</th>\n",
              "      <th>station_name</th>\n",
              "      <th>duration</th>\n",
              "      <th>num_trips</th>\n",
              "      <th>distance_from_city_center</th>\n",
              "    </tr>\n",
              "  </thead>\n",
              "  <tbody>\n",
              "    <tr>\n",
              "      <th>0</th>\n",
              "      <td>2</td>\n",
              "      <td>Kennington Road Post Office, Oval</td>\n",
              "      <td>2096.259542</td>\n",
              "      <td>7074</td>\n",
              "      <td>1.846033</td>\n",
              "    </tr>\n",
              "    <tr>\n",
              "      <th>1</th>\n",
              "      <td>2</td>\n",
              "      <td>Cleaver Street, Kennington</td>\n",
              "      <td>1231.158015</td>\n",
              "      <td>5259</td>\n",
              "      <td>1.496792</td>\n",
              "    </tr>\n",
              "    <tr>\n",
              "      <th>2</th>\n",
              "      <td>2</td>\n",
              "      <td>Doddington Grove, Kennington</td>\n",
              "      <td>1532.156098</td>\n",
              "      <td>9225</td>\n",
              "      <td>1.468141</td>\n",
              "    </tr>\n",
              "    <tr>\n",
              "      <th>3</th>\n",
              "      <td>3</td>\n",
              "      <td>Kennington Lane Rail Bridge, Vauxhall</td>\n",
              "      <td>1144.593108</td>\n",
              "      <td>25277</td>\n",
              "      <td>2.175033</td>\n",
              "    </tr>\n",
              "    <tr>\n",
              "      <th>4</th>\n",
              "      <td>2</td>\n",
              "      <td>Kennington Oval, Oval</td>\n",
              "      <td>1325.593913</td>\n",
              "      <td>12485</td>\n",
              "      <td>2.083134</td>\n",
              "    </tr>\n",
              "    <tr>\n",
              "      <th>5</th>\n",
              "      <td>3</td>\n",
              "      <td>Kennington Cross, Kennington</td>\n",
              "      <td>964.901218</td>\n",
              "      <td>19538</td>\n",
              "      <td>1.462588</td>\n",
              "    </tr>\n",
              "    <tr>\n",
              "      <th>6</th>\n",
              "      <td>2</td>\n",
              "      <td>Kennington Road  , Vauxhall</td>\n",
              "      <td>1346.311431</td>\n",
              "      <td>11110</td>\n",
              "      <td>0.891565</td>\n",
              "    </tr>\n",
              "    <tr>\n",
              "      <th>7</th>\n",
              "      <td>2</td>\n",
              "      <td>Kennington Station, Kennington</td>\n",
              "      <td>2209.022758</td>\n",
              "      <td>6723</td>\n",
              "      <td>1.298668</td>\n",
              "    </tr>\n",
              "    <tr>\n",
              "      <th>8</th>\n",
              "      <td>2</td>\n",
              "      <td>Cotton Garden Estate, Kennington</td>\n",
              "      <td>1439.843773</td>\n",
              "      <td>6913</td>\n",
              "      <td>1.117034</td>\n",
              "    </tr>\n",
              "  </tbody>\n",
              "</table>\n",
              "</div>"
            ],
            "text/plain": [
              "   CENTROID_ID  ... distance_from_city_center\n",
              "0            2  ...                  1.846033\n",
              "1            2  ...                  1.496792\n",
              "2            2  ...                  1.468141\n",
              "3            3  ...                  2.175033\n",
              "4            2  ...                  2.083134\n",
              "5            3  ...                  1.462588\n",
              "6            2  ...                  0.891565\n",
              "7            2  ...                  1.298668\n",
              "8            2  ...                  1.117034\n",
              "\n",
              "[9 rows x 5 columns]"
            ]
          },
          "metadata": {
            "tags": []
          },
          "execution_count": 22
        }
      ]
    },
    {
      "cell_type": "markdown",
      "metadata": {
        "id": "G1c9MsFGkRLT",
        "colab_type": "text"
      },
      "source": [
        "4"
      ]
    },
    {
      "cell_type": "code",
      "metadata": {
        "id": "z2g-hr8-TtHp",
        "colab_type": "code",
        "colab": {}
      },
      "source": [
        ""
      ],
      "execution_count": 0,
      "outputs": []
    },
    {
      "cell_type": "code",
      "metadata": {
        "id": "ASO97N1qUc6z",
        "colab_type": "code",
        "colab": {}
      },
      "source": [
        "%%bigquery --project numeric-mote-259221\n",
        "\n",
        "CREATE OR REPLACE MODEL bqml_tutorial.ncaa_model OPTIONS(\n",
        "  model_type='linear_reg', max_iteration=50) AS\n",
        "SELECT\n",
        "  * EXCEPT(\n",
        "    game_id, season, scheduled_date,\n",
        "    total_three_points_made,\n",
        "    total_three_points_att),\n",
        "  total_three_points_att as label\n",
        "FROM\n",
        "  `bigquery-public-data.ncaa_basketball.mbb_teams_games_sr`\n",
        "WHERE\n",
        "  # remove the game to predict\n",
        "  game_id != 'f1063e80-23c7-486b-9a5e-faa52beb2d83'"
      ],
      "execution_count": 0,
      "outputs": []
    },
    {
      "cell_type": "code",
      "metadata": {
        "id": "mGE5MN7HWuij",
        "colab_type": "code",
        "colab": {}
      },
      "source": [
        "%%bigquery --project numeric-mote-259221\n",
        "\n",
        "SELECT\n",
        "  *\n",
        "FROM\n",
        "  ML.TRAINING_INFO(MODEL `bqml_tutorial.ncaa_model`)"
      ],
      "execution_count": 0,
      "outputs": []
    },
    {
      "cell_type": "code",
      "metadata": {
        "id": "D4DyXtTIW02D",
        "colab_type": "code",
        "colab": {}
      },
      "source": [
        "%%bigquery --project numeric-mote-259221\n",
        "\n",
        "WITH eval_table AS (\n",
        "SELECT\n",
        "  *,\n",
        "  total_three_points_att AS label\n",
        "FROM\n",
        "  `bqml_tutorial.wide_games` )\n",
        "SELECT\n",
        "  *\n",
        "FROM\n",
        "  ML.EVALUATE(MODEL `bqml_tutorial.ncaa_model`,\n",
        "    TABLE eval_table)"
      ],
      "execution_count": 0,
      "outputs": []
    },
    {
      "cell_type": "code",
      "metadata": {
        "id": "dJ-2ESwDW9Z8",
        "colab_type": "code",
        "colab": {}
      },
      "source": [
        "%%bigquery --project numeric-mote-259221\n",
        "\n",
        "  WITH game_to_predict AS (\n",
        "  SELECT\n",
        "    *\n",
        "  FROM\n",
        "    `bqml_tutorial.wide_games`\n",
        "  WHERE\n",
        "    game_id='f1063e80-23c7-486b-9a5e-faa52beb2d83' )\n",
        "SELECT\n",
        "  truth.game_id AS game_id,\n",
        "  total_three_points_att,\n",
        "  predicted_total_three_points_att\n",
        "FROM (\n",
        "  SELECT\n",
        "    game_id,\n",
        "    predicted_label AS predicted_total_three_points_att\n",
        "  FROM\n",
        "    ML.PREDICT(MODEL `bqml_tutorial.ncaa_model`,\n",
        "      table game_to_predict) ) AS predict\n",
        "JOIN (\n",
        "  SELECT\n",
        "    game_id,\n",
        "    total_three_points_att AS total_three_points_att\n",
        "  FROM\n",
        "    game_to_predict) AS truth\n",
        "ON\n",
        "  predict.game_id = truth.game_id"
      ],
      "execution_count": 0,
      "outputs": []
    },
    {
      "cell_type": "code",
      "metadata": {
        "id": "b0-UvQ4sYPZM",
        "colab_type": "code",
        "colab": {}
      },
      "source": [
        ""
      ],
      "execution_count": 0,
      "outputs": []
    },
    {
      "cell_type": "markdown",
      "metadata": {
        "id": "uYqFKj6nkTCU",
        "colab_type": "text"
      },
      "source": [
        "5"
      ]
    },
    {
      "cell_type": "code",
      "metadata": {
        "id": "BY7Fo8PUYP3l",
        "colab_type": "code",
        "colab": {
          "base_uri": "https://localhost:8080/",
          "height": 32
        },
        "outputId": "e619be67-dd9c-49f9-8901-5667209835b1"
      },
      "source": [
        "%%bigquery --project numeric-mote-259221\n",
        "\n",
        "CREATE MODEL `bqml_tutorial.natality_model`\n",
        "OPTIONS\n",
        "  (model_type='linear_reg',\n",
        "    input_label_cols=['weight_pounds']) AS\n",
        "SELECT\n",
        "  weight_pounds,\n",
        "  is_male,\n",
        "  gestation_weeks,\n",
        "  mother_age,\n",
        "  CAST(mother_race AS string) AS mother_race\n",
        "FROM\n",
        "  `bigquery-public-data.samples.natality`\n",
        "WHERE\n",
        "  weight_pounds IS NOT NULL\n",
        "  AND RAND() < 0.001"
      ],
      "execution_count": 26,
      "outputs": [
        {
          "output_type": "execute_result",
          "data": {
            "text/html": [
              "<div>\n",
              "<style scoped>\n",
              "    .dataframe tbody tr th:only-of-type {\n",
              "        vertical-align: middle;\n",
              "    }\n",
              "\n",
              "    .dataframe tbody tr th {\n",
              "        vertical-align: top;\n",
              "    }\n",
              "\n",
              "    .dataframe thead th {\n",
              "        text-align: right;\n",
              "    }\n",
              "</style>\n",
              "<table border=\"1\" class=\"dataframe\">\n",
              "  <thead>\n",
              "    <tr style=\"text-align: right;\">\n",
              "      <th></th>\n",
              "    </tr>\n",
              "  </thead>\n",
              "  <tbody>\n",
              "  </tbody>\n",
              "</table>\n",
              "</div>"
            ],
            "text/plain": [
              "Empty DataFrame\n",
              "Columns: []\n",
              "Index: []"
            ]
          },
          "metadata": {
            "tags": []
          },
          "execution_count": 26
        }
      ]
    },
    {
      "cell_type": "code",
      "metadata": {
        "id": "OIeYkhfRYZSL",
        "colab_type": "code",
        "colab": {
          "base_uri": "https://localhost:8080/",
          "height": 80
        },
        "outputId": "3a0f944b-bb63-466b-91dc-a0688764ff90"
      },
      "source": [
        "%%bigquery --project numeric-mote-259221\n",
        "\n",
        "SELECT\n",
        "  *\n",
        "FROM\n",
        "  ML.EVALUATE(MODEL `bqml_tutorial.natality_model`,\n",
        "    (\n",
        "    SELECT\n",
        "      weight_pounds,\n",
        "      is_male,\n",
        "      gestation_weeks,\n",
        "      mother_age,\n",
        "      CAST(mother_race AS STRING) AS mother_race\n",
        "    FROM\n",
        "      `bigquery-public-data.samples.natality`\n",
        "    WHERE\n",
        "      weight_pounds IS NOT NULL))"
      ],
      "execution_count": 27,
      "outputs": [
        {
          "output_type": "execute_result",
          "data": {
            "text/html": [
              "<div>\n",
              "<style scoped>\n",
              "    .dataframe tbody tr th:only-of-type {\n",
              "        vertical-align: middle;\n",
              "    }\n",
              "\n",
              "    .dataframe tbody tr th {\n",
              "        vertical-align: top;\n",
              "    }\n",
              "\n",
              "    .dataframe thead th {\n",
              "        text-align: right;\n",
              "    }\n",
              "</style>\n",
              "<table border=\"1\" class=\"dataframe\">\n",
              "  <thead>\n",
              "    <tr style=\"text-align: right;\">\n",
              "      <th></th>\n",
              "      <th>mean_absolute_error</th>\n",
              "      <th>mean_squared_error</th>\n",
              "      <th>mean_squared_log_error</th>\n",
              "      <th>median_absolute_error</th>\n",
              "      <th>r2_score</th>\n",
              "      <th>explained_variance</th>\n",
              "    </tr>\n",
              "  </thead>\n",
              "  <tbody>\n",
              "    <tr>\n",
              "      <th>0</th>\n",
              "      <td>0.956419</td>\n",
              "      <td>1.675675</td>\n",
              "      <td>0.034258</td>\n",
              "      <td>0.738557</td>\n",
              "      <td>0.046483</td>\n",
              "      <td>0.046484</td>\n",
              "    </tr>\n",
              "  </tbody>\n",
              "</table>\n",
              "</div>"
            ],
            "text/plain": [
              "   mean_absolute_error  mean_squared_error  ...  r2_score  explained_variance\n",
              "0             0.956419            1.675675  ...  0.046483            0.046484\n",
              "\n",
              "[1 rows x 6 columns]"
            ]
          },
          "metadata": {
            "tags": []
          },
          "execution_count": 27
        }
      ]
    },
    {
      "cell_type": "code",
      "metadata": {
        "id": "LMjOcMucYgHM",
        "colab_type": "code",
        "colab": {
          "base_uri": "https://localhost:8080/",
          "height": 419
        },
        "outputId": "e70be635-edc0-4b1a-a5e3-a4fb70819353"
      },
      "source": [
        "%%bigquery --project numeric-mote-259221\n",
        "\n",
        "SELECT\n",
        "  predicted_weight_pounds\n",
        "FROM\n",
        "  ML.PREDICT(MODEL `bqml_tutorial.natality_model`,\n",
        "    (\n",
        "    SELECT\n",
        "      is_male,\n",
        "      gestation_weeks,\n",
        "      mother_age,\n",
        "      CAST(mother_race AS STRING) AS mother_race\n",
        "    FROM\n",
        "      `bigquery-public-data.samples.natality`\n",
        "    WHERE\n",
        "      state = \"WY\"))"
      ],
      "execution_count": 28,
      "outputs": [
        {
          "output_type": "execute_result",
          "data": {
            "text/html": [
              "<div>\n",
              "<style scoped>\n",
              "    .dataframe tbody tr th:only-of-type {\n",
              "        vertical-align: middle;\n",
              "    }\n",
              "\n",
              "    .dataframe tbody tr th {\n",
              "        vertical-align: top;\n",
              "    }\n",
              "\n",
              "    .dataframe thead th {\n",
              "        text-align: right;\n",
              "    }\n",
              "</style>\n",
              "<table border=\"1\" class=\"dataframe\">\n",
              "  <thead>\n",
              "    <tr style=\"text-align: right;\">\n",
              "      <th></th>\n",
              "      <th>predicted_weight_pounds</th>\n",
              "    </tr>\n",
              "  </thead>\n",
              "  <tbody>\n",
              "    <tr>\n",
              "      <th>0</th>\n",
              "      <td>7.745286</td>\n",
              "    </tr>\n",
              "    <tr>\n",
              "      <th>1</th>\n",
              "      <td>7.655229</td>\n",
              "    </tr>\n",
              "    <tr>\n",
              "      <th>2</th>\n",
              "      <td>7.465117</td>\n",
              "    </tr>\n",
              "    <tr>\n",
              "      <th>3</th>\n",
              "      <td>7.703034</td>\n",
              "    </tr>\n",
              "    <tr>\n",
              "      <th>4</th>\n",
              "      <td>7.417312</td>\n",
              "    </tr>\n",
              "    <tr>\n",
              "      <th>...</th>\n",
              "      <td>...</td>\n",
              "    </tr>\n",
              "    <tr>\n",
              "      <th>218730</th>\n",
              "      <td>7.184083</td>\n",
              "    </tr>\n",
              "    <tr>\n",
              "      <th>218731</th>\n",
              "      <td>7.184083</td>\n",
              "    </tr>\n",
              "    <tr>\n",
              "      <th>218732</th>\n",
              "      <td>7.184083</td>\n",
              "    </tr>\n",
              "    <tr>\n",
              "      <th>218733</th>\n",
              "      <td>7.184083</td>\n",
              "    </tr>\n",
              "    <tr>\n",
              "      <th>218734</th>\n",
              "      <td>7.184083</td>\n",
              "    </tr>\n",
              "  </tbody>\n",
              "</table>\n",
              "<p>218735 rows × 1 columns</p>\n",
              "</div>"
            ],
            "text/plain": [
              "        predicted_weight_pounds\n",
              "0                      7.745286\n",
              "1                      7.655229\n",
              "2                      7.465117\n",
              "3                      7.703034\n",
              "4                      7.417312\n",
              "...                         ...\n",
              "218730                 7.184083\n",
              "218731                 7.184083\n",
              "218732                 7.184083\n",
              "218733                 7.184083\n",
              "218734                 7.184083\n",
              "\n",
              "[218735 rows x 1 columns]"
            ]
          },
          "metadata": {
            "tags": []
          },
          "execution_count": 28
        }
      ]
    },
    {
      "cell_type": "markdown",
      "metadata": {
        "id": "gLe3MV5aZLW9",
        "colab_type": "text"
      },
      "source": [
        "AUTO ML TABLES"
      ]
    },
    {
      "cell_type": "markdown",
      "metadata": {
        "id": "ev-Pta4jkIyl",
        "colab_type": "text"
      },
      "source": [
        "1"
      ]
    },
    {
      "cell_type": "code",
      "metadata": {
        "id": "zMbqUEgLZJPy",
        "colab_type": "code",
        "colab": {
          "base_uri": "https://localhost:8080/",
          "height": 34
        },
        "outputId": "3688acef-b526-40c1-af43-31d2c1135d17"
      },
      "source": [
        "PROJECT_ID = \"numeric-mote-259221\"\n",
        "COMPUTE_REGION = \"us-central1\"\n",
        "! gcloud config set project $PROJECT_ID"
      ],
      "execution_count": 70,
      "outputs": [
        {
          "output_type": "stream",
          "text": [
            "Updated property [core/project].\n"
          ],
          "name": "stdout"
        }
      ]
    },
    {
      "cell_type": "code",
      "metadata": {
        "id": "c79vrHRA6VjK",
        "colab_type": "code",
        "colab": {
          "resources": {
            "http://localhost:8080/nbextensions/google.colab/files.js": {
              "data": "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",
              "ok": true,
              "headers": [
                [
                  "content-type",
                  "application/javascript"
                ]
              ],
              "status": 200,
              "status_text": ""
            }
          },
          "base_uri": "https://localhost:8080/",
          "height": 88
        },
        "outputId": "4dc3e114-a5c5-45ba-cb05-d46dd35a5aef"
      },
      "source": [
        "import sys\n",
        "if 'google.colab' in sys.modules:    \n",
        "  from google.colab import files\n",
        "  keyfile_upload = files.upload()\n",
        "  keyfile = list(keyfile_upload.keys())[0]\n",
        "  %env GOOGLE_APPLICATION_CREDENTIALS $keyfile\n",
        "else:\n",
        "  %env GOOGLE_APPLICATION_CREDENTIALS \"/Users/nsy/Documents/Grad2/5671/HW11/service_account.json\""
      ],
      "execution_count": 71,
      "outputs": [
        {
          "output_type": "display_data",
          "data": {
            "text/html": [
              "\n",
              "     <input type=\"file\" id=\"files-ea224356-e6ab-43e5-b552-dd1bce4d33a6\" name=\"files[]\" multiple disabled />\n",
              "     <output id=\"result-ea224356-e6ab-43e5-b552-dd1bce4d33a6\">\n",
              "      Upload widget is only available when the cell has been executed in the\n",
              "      current browser session. Please rerun this cell to enable.\n",
              "      </output>\n",
              "      <script src=\"/nbextensions/google.colab/files.js\"></script> "
            ],
            "text/plain": [
              "<IPython.core.display.HTML object>"
            ]
          },
          "metadata": {
            "tags": []
          }
        },
        {
          "output_type": "stream",
          "text": [
            "Saving service_account.json to service_account (2).json\n",
            "env: GOOGLE_APPLICATION_CREDENTIALS=service_account.json\n"
          ],
          "name": "stdout"
        }
      ]
    },
    {
      "cell_type": "code",
      "metadata": {
        "id": "4_z2pjgCiKNa",
        "colab_type": "code",
        "colab": {}
      },
      "source": [
        "! pip3 install --upgrade --quiet google-cloud-automl google-cloud-bigquery"
      ],
      "execution_count": 0,
      "outputs": []
    },
    {
      "cell_type": "code",
      "metadata": {
        "id": "6LVPGKSP6git",
        "colab_type": "code",
        "colab": {
          "base_uri": "https://localhost:8080/",
          "height": 343
        },
        "outputId": "5f5af9f3-716e-41df-8c90-c6af1b16513b"
      },
      "source": [
        "%pip install google-cloud-automl"
      ],
      "execution_count": 72,
      "outputs": [
        {
          "output_type": "stream",
          "text": [
            "Requirement already satisfied: google-cloud-automl in /usr/local/lib/python3.6/dist-packages (0.8.0)\n",
            "Requirement already satisfied: google-api-core[grpc]<2.0.0dev,>=1.14.0 in /usr/local/lib/python3.6/dist-packages (from google-cloud-automl) (1.14.3)\n",
            "Requirement already satisfied: requests<3.0.0dev,>=2.18.0 in /usr/local/lib/python3.6/dist-packages (from google-api-core[grpc]<2.0.0dev,>=1.14.0->google-cloud-automl) (2.21.0)\n",
            "Requirement already satisfied: six>=1.10.0 in /usr/local/lib/python3.6/dist-packages (from google-api-core[grpc]<2.0.0dev,>=1.14.0->google-cloud-automl) (1.12.0)\n",
            "Requirement already satisfied: pytz in /usr/local/lib/python3.6/dist-packages (from google-api-core[grpc]<2.0.0dev,>=1.14.0->google-cloud-automl) (2018.9)\n",
            "Requirement already satisfied: protobuf>=3.4.0 in /usr/local/lib/python3.6/dist-packages (from google-api-core[grpc]<2.0.0dev,>=1.14.0->google-cloud-automl) (3.10.0)\n",
            "Requirement already satisfied: googleapis-common-protos<2.0dev,>=1.6.0 in /usr/local/lib/python3.6/dist-packages (from google-api-core[grpc]<2.0.0dev,>=1.14.0->google-cloud-automl) (1.6.0)\n",
            "Requirement already satisfied: setuptools>=34.0.0 in /usr/local/lib/python3.6/dist-packages (from google-api-core[grpc]<2.0.0dev,>=1.14.0->google-cloud-automl) (41.4.0)\n",
            "Requirement already satisfied: google-auth<2.0dev,>=0.4.0 in /usr/local/lib/python3.6/dist-packages (from google-api-core[grpc]<2.0.0dev,>=1.14.0->google-cloud-automl) (1.4.2)\n",
            "Requirement already satisfied: grpcio<2.0dev,>=1.8.2; extra == \"grpc\" in /usr/local/lib/python3.6/dist-packages (from google-api-core[grpc]<2.0.0dev,>=1.14.0->google-cloud-automl) (1.15.0)\n",
            "Requirement already satisfied: chardet<3.1.0,>=3.0.2 in /usr/local/lib/python3.6/dist-packages (from requests<3.0.0dev,>=2.18.0->google-api-core[grpc]<2.0.0dev,>=1.14.0->google-cloud-automl) (3.0.4)\n",
            "Requirement already satisfied: certifi>=2017.4.17 in /usr/local/lib/python3.6/dist-packages (from requests<3.0.0dev,>=2.18.0->google-api-core[grpc]<2.0.0dev,>=1.14.0->google-cloud-automl) (2019.9.11)\n",
            "Requirement already satisfied: idna<2.9,>=2.5 in /usr/local/lib/python3.6/dist-packages (from requests<3.0.0dev,>=2.18.0->google-api-core[grpc]<2.0.0dev,>=1.14.0->google-cloud-automl) (2.8)\n",
            "Requirement already satisfied: urllib3<1.25,>=1.21.1 in /usr/local/lib/python3.6/dist-packages (from requests<3.0.0dev,>=2.18.0->google-api-core[grpc]<2.0.0dev,>=1.14.0->google-cloud-automl) (1.24.3)\n",
            "Requirement already satisfied: rsa>=3.1.4 in /usr/local/lib/python3.6/dist-packages (from google-auth<2.0dev,>=0.4.0->google-api-core[grpc]<2.0.0dev,>=1.14.0->google-cloud-automl) (4.0)\n",
            "Requirement already satisfied: pyasn1-modules>=0.2.1 in /usr/local/lib/python3.6/dist-packages (from google-auth<2.0dev,>=0.4.0->google-api-core[grpc]<2.0.0dev,>=1.14.0->google-cloud-automl) (0.2.7)\n",
            "Requirement already satisfied: cachetools>=2.0.0 in /usr/local/lib/python3.6/dist-packages (from google-auth<2.0dev,>=0.4.0->google-api-core[grpc]<2.0.0dev,>=1.14.0->google-cloud-automl) (3.1.1)\n",
            "Requirement already satisfied: pyasn1>=0.1.3 in /usr/local/lib/python3.6/dist-packages (from rsa>=3.1.4->google-auth<2.0dev,>=0.4.0->google-api-core[grpc]<2.0.0dev,>=1.14.0->google-cloud-automl) (0.4.7)\n"
          ],
          "name": "stdout"
        }
      ]
    },
    {
      "cell_type": "code",
      "metadata": {
        "id": "QUIDTQ8l6hIT",
        "colab_type": "code",
        "colab": {}
      },
      "source": [
        "from google.cloud import automl_v1beta1 as automl\n",
        "\n",
        "import google.cloud.automl_v1beta1.proto.data_types_pb2 as data_types\n",
        "import matplotlib.pyplot as plt"
      ],
      "execution_count": 0,
      "outputs": []
    },
    {
      "cell_type": "code",
      "metadata": {
        "id": "JH2nUvKl6jnv",
        "colab_type": "code",
        "colab": {}
      },
      "source": [
        "client = automl.TablesClient(project=PROJECT_ID, region=COMPUTE_REGION)"
      ],
      "execution_count": 0,
      "outputs": []
    },
    {
      "cell_type": "code",
      "metadata": {
        "id": "avjeK1BJ6xR7",
        "colab_type": "code",
        "colab": {
          "base_uri": "https://localhost:8080/",
          "height": 34
        },
        "outputId": "2a8801cb-97f4-4151-eff8-984fd93d15cf"
      },
      "source": [
        "list_models = client.list_models()\n",
        "models = { model.display_name: model.name for model in list_models }\n",
        "models"
      ],
      "execution_count": 75,
      "outputs": [
        {
          "output_type": "execute_result",
          "data": {
            "text/plain": [
              "{}"
            ]
          },
          "metadata": {
            "tags": []
          },
          "execution_count": 75
        }
      ]
    },
    {
      "cell_type": "code",
      "metadata": {
        "id": "f9wM_H206xwE",
        "colab_type": "code",
        "colab": {
          "base_uri": "https://localhost:8080/",
          "height": 204
        },
        "outputId": "aaba4bb7-b325-4510-dbcf-da37168d2409"
      },
      "source": [
        "dataset_display_name = 'census' \n",
        "dataset = client.create_dataset(dataset_display_name)\n",
        "dataset"
      ],
      "execution_count": 76,
      "outputs": [
        {
          "output_type": "execute_result",
          "data": {
            "text/plain": [
              "name: \"projects/269327017718/locations/us-central1/datasets/TBL797079959439933440\"\n",
              "display_name: \"census\"\n",
              "create_time {\n",
              "  seconds: 1573957198\n",
              "  nanos: 286438000\n",
              "}\n",
              "etag: \"AB3BwFr45DO_uRX_fXA9_FdySGyt3p9Us9KaJFcoILE3gFJoy5FihjNJ038A4z5MMTVV\"\n",
              "tables_dataset_metadata {\n",
              "  stats_update_time {\n",
              "  }\n",
              "}"
            ]
          },
          "metadata": {
            "tags": []
          },
          "execution_count": 76
        }
      ]
    },
    {
      "cell_type": "code",
      "metadata": {
        "id": "lbcXQGQU60au",
        "colab_type": "code",
        "colab": {
          "base_uri": "https://localhost:8080/",
          "height": 85
        },
        "outputId": "3865219b-371a-41bb-b7cb-f28eebe73beb"
      },
      "source": [
        "GCS_STORAGE_BUCKET = 'gs://{}-codelab-data-storage'.format(PROJECT_ID)\n",
        "GCS_DATASET_URI = '{}/census_income.csv'.format(GCS_STORAGE_BUCKET)\n",
        "! gsutil ls $GCS_STORAGE_BUCKET || gsutil mb -l $COMPUTE_REGION $GCS_STORAGE_BUCKET\n",
        "! gsutil cp gs://cloud-ml-data-tables/notebooks/census_income.csv $GCS_DATASET_URI"
      ],
      "execution_count": 77,
      "outputs": [
        {
          "output_type": "stream",
          "text": [
            "gs://numeric-mote-259221-codelab-data-storage/census_income.csv\n",
            "Copying gs://cloud-ml-data-tables/notebooks/census_income.csv [Content-Type=application/octet-stream]...\n",
            "/ [1 files][  3.8 MiB/  3.8 MiB]                                                \n",
            "Operation completed over 1 objects/3.8 MiB.                                      \n"
          ],
          "name": "stdout"
        }
      ]
    },
    {
      "cell_type": "code",
      "metadata": {
        "id": "EVP1-35lH9vP",
        "colab_type": "code",
        "colab": {}
      },
      "source": [
        "import_data_operation = client.import_data(\n",
        "    dataset=dataset,\n",
        "    gcs_input_uris = gcs_input_uris\n",
        ")\n",
        "print('Dataset import operation: {}'.format(import_data_operation))"
      ],
      "execution_count": 0,
      "outputs": []
    },
    {
      "cell_type": "code",
      "metadata": {
        "id": "vrOOkGSa6771",
        "colab_type": "code",
        "colab": {}
      },
      "source": [
        "list_table_specs_response = client.list_table_specs(dataset=dataset)\n",
        "table_specs = [s for s in list_table_specs_response]\n",
        "\n",
        "# List column specs\n",
        "list_column_specs_response = client.list_column_specs(dataset=dataset)\n",
        "column_specs = {s.display_name: s for s in list_column_specs_response}\n",
        "\n",
        "# Print Features and data_type:\n",
        "\n",
        "features = [(key, data_types.TypeCode.Name(value.data_type.type_code)) for key, value in column_specs.items()]\n",
        "print('Feature list:\\n')\n",
        "for feature in features:\n",
        "    print(feature[0],':', feature[1])"
      ],
      "execution_count": 0,
      "outputs": []
    },
    {
      "cell_type": "code",
      "metadata": {
        "id": "urhBD6NR6_2E",
        "colab_type": "code",
        "colab": {}
      },
      "source": [
        "type_counts = {}\n",
        "for column_spec in column_specs.values():\n",
        "  type_name = data_types.TypeCode.Name(column_spec.data_type.type_code)\n",
        "  type_counts[type_name] = type_counts.get(type_name, 0) + 1\n",
        "    \n",
        "plt.pie(x=type_counts.values(), labels=type_counts.keys(), autopct='%1.1f%%')\n",
        "plt.axis('equal')\n",
        "plt.show()"
      ],
      "execution_count": 0,
      "outputs": []
    },
    {
      "cell_type": "code",
      "metadata": {
        "id": "y1GQjrEd7CXB",
        "colab_type": "code",
        "colab": {}
      },
      "source": [
        "update_column_response = client.update_column_spec(\n",
        "    dataset=dataset,\n",
        "    column_spec_display_name='income',\n",
        "    type_code='CATEGORY',\n",
        "    nullable=False,\n",
        ")\n",
        "update_column_response"
      ],
      "execution_count": 0,
      "outputs": []
    },
    {
      "cell_type": "code",
      "metadata": {
        "id": "44oleBmh7FpC",
        "colab_type": "code",
        "colab": {}
      },
      "source": [
        "update_dataset_response = client.set_target_column(\n",
        "    dataset=dataset,\n",
        "    column_spec_display_name='income',\n",
        ")\n",
        "update_dataset_response"
      ],
      "execution_count": 0,
      "outputs": []
    },
    {
      "cell_type": "code",
      "metadata": {
        "id": "x7J0rwut7H8O",
        "colab_type": "code",
        "colab": {}
      },
      "source": [
        "model_display_name = 'census_income_model'\n",
        "\n",
        "create_model_response = client.create_model(\n",
        "    model_display_name,\n",
        "    dataset=dataset,\n",
        "    train_budget_milli_node_hours=1000,\n",
        ")\n",
        "print('Create model operation: {}'.format(create_model_response.operation))\n",
        "# Wait until model training is done.\n",
        "model = create_model_response.result()\n",
        "model"
      ],
      "execution_count": 0,
      "outputs": []
    },
    {
      "cell_type": "code",
      "metadata": {
        "id": "HyWD_KIc7KdG",
        "colab_type": "code",
        "colab": {}
      },
      "source": [
        "client.deploy_model(model=model).result()"
      ],
      "execution_count": 0,
      "outputs": []
    },
    {
      "cell_type": "code",
      "metadata": {
        "id": "Riizwx8X7M8k",
        "colab_type": "code",
        "colab": {}
      },
      "source": [
        "model = client.get_model(model_name=model.name)\n",
        "model"
      ],
      "execution_count": 0,
      "outputs": []
    },
    {
      "cell_type": "code",
      "metadata": {
        "id": "mqH_X6nK7O9V",
        "colab_type": "code",
        "colab": {}
      },
      "source": [
        "from ipywidgets import interact\n",
        "import ipywidgets as widgets\n",
        "\n",
        "workclass_ids = ['Private', 'Self-emp-not-inc', 'Self-emp-inc', 'Federal-gov', 'Local-gov', 'State-gov', 'Without-pay', 'Never-worked']\n",
        "education_ids = ['Bachelors', 'Some-college', '11th', 'HS-grad', 'Prof-school', 'Assoc-acdm', 'Assoc-voc', '9th', '7th-8th', '12th', 'Masters', '1st-4th', '10th', 'Doctorate', '5th-6th', 'Preschool']\n",
        "marital_status_ids = ['Married-civ-spouse', 'Divorced', 'Never-married', 'Separated', 'Widowed', 'Married-spouse-absent', 'Married-AF-spouse']\n",
        "occupation_ids = ['Tech-support', 'Craft-repair', 'Other-service', 'Sales', 'Exec-managerial', 'Prof-specialty', 'Handlers-cleaners', 'Machine-op-inspct', 'Adm-clerical', 'Farming-fishing', 'Transport-moving', 'Priv-house-serv', 'Protective-serv', 'Armed-Forces']\n",
        "relationship_ids = ['Wife', 'Own-child', 'Husband', 'Not-in-family', 'Other-relative', 'Unmarried']\n",
        "race_ids = ['White', 'Asian-Pac-Islander', 'Amer-Indian-Eskimo', 'Other', 'Black']\n",
        "sex_ids = ['Female', 'Male']\n",
        "native_country_ids = ['United-States', 'Cambodia', 'England', 'Puerto-Rico', 'Canada', 'Germany', 'Outlying-US(Guam-USVI-etc)', 'India', 'Japan', 'Greece', 'South', 'China', 'Cuba', 'Iran', 'Honduras', 'Philippines', 'Italy', 'Poland', 'Jamaica', 'Vietnam', 'Mexico', 'Portugal', 'Ireland', 'France', 'Dominican-Republic', 'Laos', 'Ecuador', 'Taiwan', 'Haiti', 'Columbia', 'Hungary', 'Guatemala', 'Nicaragua', 'Scotland', 'Thailand', 'Yugoslavia', 'El-Salvador', 'Trinadad&Tobago', 'Peru', 'Hong', 'Holand-Netherlands']\n",
        "\n",
        "workclass = widgets.Dropdown(\n",
        "    options=workclass_ids, \n",
        "    value=workclass_ids[0],\n",
        "    description='workclass:'\n",
        ")\n",
        "\n",
        "education = widgets.Dropdown(\n",
        "    options=education_ids, \n",
        "    value=education_ids[0],\n",
        "    description='education:', \n",
        "    width='500px'\n",
        ")\n",
        " \n",
        "marital_status = widgets.Dropdown(\n",
        "    options=marital_status_ids, \n",
        "    value=marital_status_ids[0],\n",
        "    description='marital status:', \n",
        "    width='500px'\n",
        ")\n",
        "\n",
        "occupation = widgets.Dropdown(\n",
        "    options=occupation_ids, \n",
        "    value=occupation_ids[0],\n",
        "    description='occupation:', \n",
        "    width='500px'\n",
        ")\n",
        "\n",
        "relationship = widgets.Dropdown(\n",
        "    options=relationship_ids, \n",
        "    value=relationship_ids[0],\n",
        "    description='relationship:', \n",
        "    width='500px'\n",
        ")\n",
        "\n",
        "race = widgets.Dropdown(\n",
        "    options=race_ids, \n",
        "    value=race_ids[0],                           \n",
        "    description='race:', \n",
        "    width='500px'\n",
        ")\n",
        "\n",
        "sex = widgets.Dropdown(\n",
        "    options=sex_ids, \n",
        "    value=sex_ids[0],\n",
        "    description='sex:', \n",
        "    width='500px'\n",
        ")\n",
        "\n",
        "native_country = widgets.Dropdown(\n",
        "    options=native_country_ids, \n",
        "    value=native_country_ids[0],\n",
        "    description='native_country:', \n",
        "    width='500px'\n",
        ")\n",
        "\n",
        "display(workclass)\n",
        "display(education)\n",
        "display(marital_status)\n",
        "display(occupation)\n",
        "display(relationship)\n",
        "display(race)\n",
        "display(sex)\n",
        "display(native_country)"
      ],
      "execution_count": 0,
      "outputs": []
    },
    {
      "cell_type": "code",
      "metadata": {
        "id": "lOBRQ-Xx7SPg",
        "colab_type": "code",
        "colab": {}
      },
      "source": [
        "age = 34 #@param {type:'slider', min:1, max:100, step:1}\n",
        "capital_gain = 40000 #@param {type:'slider', min:0, max:100000, step:10000}\n",
        "capital_loss = 3.8 #@param {type:'slider', min:0, max:4000, step:0.1}\n",
        "fnlwgt = 150000 #@param {type:'slider', min:0, max:1000000, step:50000}\n",
        "education_num = 9 #@param {type:'slider', min:1, max:16, step:1}\n",
        "hours_per_week = 40 #@param {type:'slider', min:1, max:100, step:1}"
      ],
      "execution_count": 0,
      "outputs": []
    },
    {
      "cell_type": "code",
      "metadata": {
        "id": "hCWQtYaq7X1o",
        "colab_type": "code",
        "colab": {}
      },
      "source": [
        "inputs = {\n",
        "    'age': age,\n",
        "    'workclass': workclass.value,\n",
        "    'fnlwgt': fnlwgt,\n",
        "    'education': education.value,\n",
        "    'education_num': education_num,\n",
        "    'marital_status': marital_status.value,\n",
        "    'occupation': occupation.value,\n",
        "    'relationship': relationship.value,\n",
        "    'race': race.value,\n",
        "    'sex': sex.value,\n",
        "    'capital_gain': capital_gain,\n",
        "    'capital_loss': capital_loss,\n",
        "    'hours_per_week': hours_per_week,\n",
        "    'native_country': native_country.value,\n",
        "}\n",
        "\n",
        "prediction_result = client.predict(model=model, inputs=inputs)\n",
        "prediction_result"
      ],
      "execution_count": 0,
      "outputs": []
    },
    {
      "cell_type": "code",
      "metadata": {
        "id": "JIc7Ye4s7bUP",
        "colab_type": "code",
        "colab": {}
      },
      "source": [
        "predictions = [(prediction.tables.score, prediction.tables.value.string_value) for prediction in prediction_result.payload]\n",
        "predictions = sorted(predictions, key=lambda tup: (tup[0],tup[1]), reverse=True)\n",
        "print('Prediction is: ', predictions[0])"
      ],
      "execution_count": 0,
      "outputs": []
    },
    {
      "cell_type": "code",
      "metadata": {
        "id": "bRV7OW7V7d4G",
        "colab_type": "code",
        "colab": {}
      },
      "source": [
        "undeploy_model_response = client.undeploy_model(model=model)"
      ],
      "execution_count": 0,
      "outputs": []
    },
    {
      "cell_type": "code",
      "metadata": {
        "id": "7Ofspi3L7gFO",
        "colab_type": "code",
        "colab": {}
      },
      "source": [
        "GCS_BATCH_PREDICT_URI = '{}/census_income_batch_prediction_input.csv'.format(GCS_STORAGE_BUCKET)\n",
        "GCS_BATCH_PREDICT_OUTPUT = '{}/census_income_predictions/'.format(GCS_STORAGE_BUCKET)\n",
        "! gsutil cp gs://cloud-ml-data-tables/notebooks/census_income_batch_prediction_input.csv $GCS_BATCH_PREDICT_URI"
      ],
      "execution_count": 0,
      "outputs": []
    },
    {
      "cell_type": "code",
      "metadata": {
        "id": "V5XiIA3K7kqd",
        "colab_type": "code",
        "colab": {}
      },
      "source": [
        "batch_predict_response = client.batch_predict(\n",
        "    model=model, \n",
        "    gcs_input_uris=GCS_BATCH_PREDICT_URI,\n",
        "    gcs_output_uri_prefix=GCS_BATCH_PREDICT_OUTPUT,\n",
        ")\n",
        "print('Batch prediction operation: {}'.format(batch_predict_response.operation))\n",
        "# Wait until batch prediction is done.\n",
        "batch_predict_result = batch_predict_response.result()\n",
        "batch_predict_response.metadata"
      ],
      "execution_count": 0,
      "outputs": []
    },
    {
      "cell_type": "code",
      "metadata": {
        "id": "wBpandzyKvyb",
        "colab_type": "code",
        "colab": {}
      },
      "source": [
        ""
      ],
      "execution_count": 0,
      "outputs": []
    },
    {
      "cell_type": "markdown",
      "metadata": {
        "id": "12B-YrcmkCna",
        "colab_type": "text"
      },
      "source": [
        "2"
      ]
    },
    {
      "cell_type": "code",
      "metadata": {
        "id": "B-cmukQlK86w",
        "colab_type": "code",
        "colab": {
          "base_uri": "https://localhost:8080/",
          "height": 204
        },
        "outputId": "34462148-536a-419b-b447-2bdfc3fa20a9"
      },
      "source": [
        "client = automl.TablesClient(project=PROJECT_ID, region=COMPUTE_REGION)\n",
        "dataset_display_name = 'colab_trial1' #@param {type: 'string'}\n",
        "\n",
        "dataset = client.create_dataset(dataset_display_name)\n",
        "dataset"
      ],
      "execution_count": 100,
      "outputs": [
        {
          "output_type": "execute_result",
          "data": {
            "text/plain": [
              "name: \"projects/269327017718/locations/us-central1/datasets/TBL5183585996498796544\"\n",
              "display_name: \"colab_trial1\"\n",
              "create_time {\n",
              "  seconds: 1573960553\n",
              "  nanos: 568482000\n",
              "}\n",
              "etag: \"AB3BwFrunFvPKM9hPPKPu220gGr2EkmPTyuRBvlPNxXMJXgfrJcFJQnUQrP1nCTcN1wm\"\n",
              "tables_dataset_metadata {\n",
              "  stats_update_time {\n",
              "  }\n",
              "}"
            ]
          },
          "metadata": {
            "tags": []
          },
          "execution_count": 100
        }
      ]
    },
    {
      "cell_type": "code",
      "metadata": {
        "id": "eGBqfreALVz5",
        "colab_type": "code",
        "colab": {}
      },
      "source": [
        "bucket_name = 'swjsock' #@param {type: 'string'}"
      ],
      "execution_count": 0,
      "outputs": []
    },
    {
      "cell_type": "code",
      "metadata": {
        "id": "HU2Y_L7DLpuN",
        "colab_type": "code",
        "colab": {
          "base_uri": "https://localhost:8080/",
          "height": 598
        },
        "outputId": "5cff7db1-71b9-4e4b-9c67-c646efef2b35"
      },
      "source": [
        "!sudo pip install google-cloud-bigquery google-cloud-storage pandas pandas-gbq gcsfs oauth2client\n",
        "\n",
        "import datetime\n",
        "import pandas as pd\n",
        "\n",
        "import gcsfs\n",
        "from google.cloud import bigquery\n",
        "from google.cloud import storage\n",
        "\n",
        "client_bq = bigquery.Client(location='US', project=PROJECT_ID)"
      ],
      "execution_count": 102,
      "outputs": [
        {
          "output_type": "stream",
          "text": [
            "Requirement already satisfied: google-cloud-bigquery in /usr/local/lib/python3.6/dist-packages (1.21.0)\n",
            "Requirement already satisfied: google-cloud-storage in /usr/local/lib/python3.6/dist-packages (1.16.2)\n",
            "Requirement already satisfied: pandas in /usr/local/lib/python3.6/dist-packages (0.25.3)\n",
            "Requirement already satisfied: pandas-gbq in /usr/local/lib/python3.6/dist-packages (0.11.0)\n",
            "Requirement already satisfied: gcsfs in /usr/local/lib/python3.6/dist-packages (0.4.0)\n",
            "Requirement already satisfied: oauth2client in /usr/local/lib/python3.6/dist-packages (4.1.3)\n",
            "Requirement already satisfied: google-resumable-media!=0.4.0,<0.5.0dev,>=0.3.1 in /usr/local/lib/python3.6/dist-packages (from google-cloud-bigquery) (0.4.1)\n",
            "Requirement already satisfied: protobuf>=3.6.0 in /usr/local/lib/python3.6/dist-packages (from google-cloud-bigquery) (3.10.0)\n",
            "Requirement already satisfied: google-cloud-core<2.0dev,>=1.0.3 in /usr/local/lib/python3.6/dist-packages (from google-cloud-bigquery) (1.0.3)\n",
            "Requirement already satisfied: google-auth>=1.2.0 in /usr/local/lib/python3.6/dist-packages (from google-cloud-storage) (1.4.2)\n",
            "Requirement already satisfied: numpy>=1.13.3 in /usr/local/lib/python3.6/dist-packages (from pandas) (1.17.4)\n",
            "Requirement already satisfied: python-dateutil>=2.6.1 in /usr/local/lib/python3.6/dist-packages (from pandas) (2.6.1)\n",
            "Requirement already satisfied: pytz>=2017.2 in /usr/local/lib/python3.6/dist-packages (from pandas) (2018.9)\n",
            "Requirement already satisfied: setuptools in /usr/local/lib/python3.6/dist-packages (from pandas-gbq) (41.4.0)\n",
            "Requirement already satisfied: pydata-google-auth in /usr/local/lib/python3.6/dist-packages (from pandas-gbq) (0.1.3)\n",
            "Requirement already satisfied: google-auth-oauthlib in /usr/local/lib/python3.6/dist-packages (from pandas-gbq) (0.4.1)\n",
            "Requirement already satisfied: fsspec>=0.6.0 in /usr/local/lib/python3.6/dist-packages (from gcsfs) (0.6.0)\n",
            "Requirement already satisfied: requests in /usr/local/lib/python3.6/dist-packages (from gcsfs) (2.21.0)\n",
            "Requirement already satisfied: decorator in /usr/local/lib/python3.6/dist-packages (from gcsfs) (4.4.1)\n",
            "Requirement already satisfied: rsa>=3.1.4 in /usr/local/lib/python3.6/dist-packages (from oauth2client) (4.0)\n",
            "Requirement already satisfied: six>=1.6.1 in /usr/local/lib/python3.6/dist-packages (from oauth2client) (1.12.0)\n",
            "Requirement already satisfied: pyasn1>=0.1.7 in /usr/local/lib/python3.6/dist-packages (from oauth2client) (0.4.7)\n",
            "Requirement already satisfied: httplib2>=0.9.1 in /usr/local/lib/python3.6/dist-packages (from oauth2client) (0.11.3)\n",
            "Requirement already satisfied: pyasn1-modules>=0.0.5 in /usr/local/lib/python3.6/dist-packages (from oauth2client) (0.2.7)\n",
            "Requirement already satisfied: google-api-core<2.0.0dev,>=1.14.0 in /usr/local/lib/python3.6/dist-packages (from google-cloud-core<2.0dev,>=1.0.3->google-cloud-bigquery) (1.14.3)\n",
            "Requirement already satisfied: cachetools>=2.0.0 in /usr/local/lib/python3.6/dist-packages (from google-auth>=1.2.0->google-cloud-storage) (3.1.1)\n",
            "Requirement already satisfied: requests-oauthlib>=0.7.0 in /usr/local/lib/python3.6/dist-packages (from google-auth-oauthlib->pandas-gbq) (1.3.0)\n",
            "Requirement already satisfied: urllib3<1.25,>=1.21.1 in /usr/local/lib/python3.6/dist-packages (from requests->gcsfs) (1.24.3)\n",
            "Requirement already satisfied: certifi>=2017.4.17 in /usr/local/lib/python3.6/dist-packages (from requests->gcsfs) (2019.9.11)\n",
            "Requirement already satisfied: idna<2.9,>=2.5 in /usr/local/lib/python3.6/dist-packages (from requests->gcsfs) (2.8)\n",
            "Requirement already satisfied: chardet<3.1.0,>=3.0.2 in /usr/local/lib/python3.6/dist-packages (from requests->gcsfs) (3.0.4)\n",
            "Requirement already satisfied: googleapis-common-protos<2.0dev,>=1.6.0 in /usr/local/lib/python3.6/dist-packages (from google-api-core<2.0.0dev,>=1.14.0->google-cloud-core<2.0dev,>=1.0.3->google-cloud-bigquery) (1.6.0)\n",
            "Requirement already satisfied: oauthlib>=3.0.0 in /usr/local/lib/python3.6/dist-packages (from requests-oauthlib>=0.7.0->google-auth-oauthlib->pandas-gbq) (3.1.0)\n"
          ],
          "name": "stdout"
        }
      ]
    },
    {
      "cell_type": "code",
      "metadata": {
        "id": "4y-T1DCYLwPN",
        "colab_type": "code",
        "colab": {}
      },
      "source": [
        "def balanceTable(table):\n",
        "    #class count\n",
        "  count_class_false, count_class_true = table.totalTransactionRevenue.value_counts()\n",
        "\n",
        "    #divide by class\n",
        "  table_class_false = table[table[\"totalTransactionRevenue\"] == False]\n",
        "  table_class_true = table[table[\"totalTransactionRevenue\"] == True]\n",
        "\n",
        "    #random over-sampling\n",
        "  table_class_true_over = table_class_true.sample(count_class_false, replace = True)\n",
        "  table_test_over = pd.concat([table_class_false, table_class_true_over])\n",
        "  return table_test_over\n",
        "\n",
        "\n",
        "def partitionTable(table, dt=20170500):\n",
        "  #the automl tables model could be training on future data and implicitly learning about past data in the testing\n",
        "  #dataset, this would cause data leakage. To prevent this, we are training only with the first 9 months of data (table1)\n",
        "  #and doing validation with the last three months of data (table2).\n",
        "  table1 = table[table[\"date\"] <= dt]\n",
        "  table2 = table[table[\"date\"] > dt]\n",
        "  return table1, table2\n",
        "\n",
        "def N_updatePrevCount(table, new_column, old_column):\n",
        "  table = table.fillna(0)\n",
        "  table[new_column] = 1\n",
        "  table.sort_values(by=['fullVisitorId','date'])\n",
        "  table[new_column] = table.groupby(['fullVisitorId'])[old_column].apply(lambda x: x.cumsum())\n",
        "  table.drop([old_column], axis = 1, inplace = True)\n",
        "  return table\n",
        "\n",
        "\n",
        "def N_updateDate(table):\n",
        "  table['weekday'] = 1\n",
        "  table['date'] = pd.to_datetime(table['date'].astype(str), format = '%Y%m%d')\n",
        "  table['weekday'] = table['date'].dt.dayofweek\n",
        "  return table\n",
        "\n",
        "\n",
        "def change_transaction_values(table):\n",
        "  table['totalTransactionRevenue'] = table['totalTransactionRevenue'].fillna(0)\n",
        "  table['totalTransactionRevenue'] = table['totalTransactionRevenue'].apply(lambda x: x!=0)\n",
        "  return table\n",
        "\n",
        "def saveTable(table, csv_file_name, bucket_name):\n",
        "  table.to_csv(csv_file_name, index = False)\n",
        "  storage_client = storage.Client()\n",
        "  bucket = storage_client.get_bucket(bucket_name)\n",
        "  blob = bucket.blob(csv_file_name)\n",
        "  blob.upload_from_filename(filename = csv_file_name)"
      ],
      "execution_count": 0,
      "outputs": []
    },
    {
      "cell_type": "code",
      "metadata": {
        "id": "PYKc6LOYNr_G",
        "colab_type": "code",
        "colab": {}
      },
      "source": [
        "unnested_file_name = \"FULL_unnested.csv\""
      ],
      "execution_count": 0,
      "outputs": []
    },
    {
      "cell_type": "code",
      "metadata": {
        "id": "kxX7F_9qRwuD",
        "colab_type": "code",
        "colab": {}
      },
      "source": [
        "table = pd.read_csv(\"gs://\"+bucket_name+\"/\"+unnested_file_name, low_memory=False)\n",
        "\n",
        "column_names = ['device', 'geoNetwork','totals', 'trafficSource']\n",
        "\n",
        "for name in column_names:\n",
        "  print(name)\n",
        "  table[name] = table[name].apply(lambda i: dict(eval(i)))\n",
        "  temp = table[name].apply(pd.Series)\n",
        "  table = pd.concat([table, temp], axis=1).drop(name, axis=1)\n",
        "\n",
        "#need to drop a column\n",
        "table.drop(['adwordsClickInfo'], axis = 1, inplace = True)\n",
        "saveTable(table, unnested_file_name, bucket_name)"
      ],
      "execution_count": 0,
      "outputs": []
    },
    {
      "cell_type": "code",
      "metadata": {
        "id": "pDm8jlrNR0BQ",
        "colab_type": "code",
        "colab": {}
      },
      "source": [
        "dataset_gcs_input_uris = ['gs://{}/training_unnested_balanced_FULL.csv'.format(bucket_name),] #@param\n",
        "import_data_operation = client.import_data(\n",
        "    dataset=dataset,\n",
        "    gcs_input_uris=dataset_gcs_input_uris\n",
        ")\n",
        "print('Dataset import operation: {}'.format(import_data_operation))\n",
        "\n",
        "# Synchronous check of operation status. Wait until import is done.\n",
        "import_data_operation.result()\n",
        "dataset = client.get_dataset(dataset_name=dataset.name)\n",
        "dataset"
      ],
      "execution_count": 0,
      "outputs": []
    },
    {
      "cell_type": "code",
      "metadata": {
        "id": "_bicJnHJVZjl",
        "colab_type": "code",
        "colab": {}
      },
      "source": [
        "list_table_specs_response = client.list_table_specs(dataset=dataset)\n",
        "table_specs = [s for s in list_table_specs_response]\n",
        "\n",
        "# List column specs\n",
        "list_column_specs_response = client.list_column_specs(dataset=dataset)\n",
        "column_specs = {s.display_name: s for s in list_column_specs_response}\n",
        "\n",
        "# Print Features and data_type:\n",
        "\n",
        "features = [(key, data_types.TypeCode.Name(value.data_type.type_code)) for key, value in column_specs.items()]\n",
        "print('Feature list:\\n')\n",
        "for feature in features:\n",
        "    print(feature[0],':', feature[1])\n",
        "    \n",
        "# Table schema pie chart.\n",
        "\n",
        "type_counts = {}\n",
        "for column_spec in column_specs.values():\n",
        "  type_name = data_types.TypeCode.Name(column_spec.data_type.type_code)\n",
        "  type_counts[type_name] = type_counts.get(type_name, 0) + 1\n",
        "    \n",
        "plt.pie(x=type_counts.values(), labels=type_counts.keys(), autopct='%1.1f%%')\n",
        "plt.axis('equal')\n",
        "plt.show()"
      ],
      "execution_count": 0,
      "outputs": []
    },
    {
      "cell_type": "code",
      "metadata": {
        "id": "LQL-12KCVf3T",
        "colab_type": "code",
        "colab": {}
      },
      "source": [
        "update_column_response = client.update_column_spec(\n",
        "    dataset=dataset,\n",
        "    column_spec_display_name='totalTransactionRevenue',\n",
        "    nullable=False,\n",
        ")\n",
        "update_column_response"
      ],
      "execution_count": 0,
      "outputs": []
    },
    {
      "cell_type": "code",
      "metadata": {
        "id": "G7ntNtfUViNf",
        "colab_type": "code",
        "colab": {}
      },
      "source": [
        "update_dataset_response = client.set_target_column(\n",
        "    dataset=dataset,\n",
        "    column_spec_display_name='totalTransactionRevenue',\n",
        ")\n",
        "update_dataset_response"
      ],
      "execution_count": 0,
      "outputs": []
    },
    {
      "cell_type": "code",
      "metadata": {
        "id": "aoguus7TVmLM",
        "colab_type": "code",
        "colab": {}
      },
      "source": [
        "model_display_name = 'trial_1' #@param {type:'string'}\n",
        "\n",
        "create_model_response = client.create_model(\n",
        "    model_display_name,\n",
        "    dataset=dataset,\n",
        "    train_budget_milli_node_hours=1000,\n",
        ")\n",
        "print('Create model operation: {}'.format(create_model_response.operation))\n",
        "# Wait until model training is done.\n",
        "model = create_model_response.result()\n",
        "model"
      ],
      "execution_count": 0,
      "outputs": []
    },
    {
      "cell_type": "code",
      "metadata": {
        "id": "86LEypE1Vp-N",
        "colab_type": "code",
        "colab": {}
      },
      "source": [
        "batch_predict_gcs_input_uris = ['gs://cloud-ml-data-tables/notebooks/validation_unnested_FULL.csv',] #@param\n",
        "batch_predict_gcs_output_uri_prefix = 'gs://{}'.format(bucket_name) #@param {type:'string'}\n",
        "batch_predict_response = client.batch_predict(\n",
        "    model=model, \n",
        "    gcs_input_uris=batch_predict_gcs_input_uris,\n",
        "    gcs_output_uri_prefix=batch_predict_gcs_output_uri_prefix,\n",
        ")\n",
        "print('Batch prediction operation: {}'.format(batch_predict_response.operation))\n",
        "# Wait until batch prediction is done.\n",
        "batch_predict_result = batch_predict_response.result()\n",
        "batch_predict_response.metadata"
      ],
      "execution_count": 0,
      "outputs": []
    },
    {
      "cell_type": "code",
      "metadata": {
        "id": "yuuCkg04VsSD",
        "colab_type": "code",
        "colab": {}
      },
      "source": [
        "import numpy as np\n",
        "from sklearn import metrics\n",
        "import matplotlib.pyplot as plt\n",
        "\n",
        "def invert(x):\n",
        "  return 1-x\n",
        "\n",
        "def switch_label(x):\n",
        "  return(not x)\n",
        "batch_predict_results_location = 'gs://<your-test-bucket>/' #@param {type:'string'}\n",
        "\n",
        "table = pd.read_csv(batch_predict_results_location +'/<resultid>/tables_1.csv')\n",
        "y = table[\"totalTransactionRevenue\"]\n",
        "scores = table[\"totalTransactionRevenue_1.0_score\"]\n",
        "scores_invert = table['totalTransactionRevenue_0.0_score']\n",
        "\n",
        "#code for ROC curve, for true values\n",
        "fpr, tpr, thresholds = metrics.roc_curve(y, scores)\n",
        "roc_auc = metrics.auc(fpr, tpr)\n",
        "\n",
        "plt.figure()\n",
        "lw = 2\n",
        "plt.plot(fpr, tpr, color='darkorange',\n",
        "         lw=lw, label='ROC curve (area = %0.2f)' % roc_auc)\n",
        "plt.plot([0, 1], [0, 1], color='navy', lw=lw, linestyle='--')\n",
        "plt.xlim([0.0, 1.0])\n",
        "plt.ylim([0.0, 1.05])\n",
        "plt.xlabel('False Positive Rate')\n",
        "plt.ylabel('True Positive Rate')\n",
        "plt.title('Receiver operating characteristic for True')\n",
        "plt.legend(loc=\"lower right\")\n",
        "plt.show()\n",
        "\n",
        "\n",
        "#code for ROC curve, for false values\n",
        "plt.figure()\n",
        "lw = 2\n",
        "label_invert = y.apply(switch_label)\n",
        "fpr, tpr, thresholds = metrics.roc_curve(label_invert, scores_invert)\n",
        "plt.plot(fpr, tpr, color='darkorange',\n",
        "         lw=lw, label='ROC curve (area = %0.2f)' % roc_auc)\n",
        "plt.plot([0, 1], [0, 1], color='navy', lw=lw, linestyle='--')\n",
        "plt.xlim([0.0, 1.0])\n",
        "plt.ylim([0.0, 1.05])\n",
        "plt.xlabel('False Positive Rate')\n",
        "plt.ylabel('True Positive Rate')\n",
        "plt.title('Receiver operating characteristic for False')\n",
        "plt.legend(loc=\"lower right\")\n",
        "plt.show()\n",
        "\n",
        "\n",
        "#code for PR curve, for true values\n",
        "\n",
        "precision, recall, thresholds = metrics.precision_recall_curve(y, scores)\n",
        "\n",
        "\n",
        "plt.figure()\n",
        "lw = 2\n",
        "plt.plot( recall, precision, color='darkorange',\n",
        "         lw=lw, label='Precision recall curve for True')\n",
        "plt.xlim([0.0, 1.0])\n",
        "plt.ylim([0.0, 1.05])\n",
        "plt.xlabel('Recall')\n",
        "plt.ylabel('Precision')\n",
        "plt.title('Precision Recall Curve for True')\n",
        "plt.legend(loc=\"lower right\")\n",
        "plt.show()\n",
        "\n",
        "#code for PR curve, for false values\n",
        "\n",
        "precision, recall, thresholds = metrics.precision_recall_curve(label_invert, scores_invert)\n",
        "print(precision.shape)\n",
        "print(recall.shape)\n",
        "\n",
        "plt.figure()\n",
        "lw = 2\n",
        "plt.plot( recall, precision, color='darkorange',\n",
        "          label='Precision recall curve for False')\n",
        "plt.xlim([0.0, 1.1])\n",
        "plt.ylim([0.0, 1.1])\n",
        "plt.xlabel('Recall')\n",
        "plt.ylabel('Precision')\n",
        "plt.title('Precision Recall Curve for False')\n",
        "plt.legend(loc=\"lower right\")\n",
        "plt.show()"
      ],
      "execution_count": 0,
      "outputs": []
    },
    {
      "cell_type": "code",
      "metadata": {
        "id": "0HkoR-NMVxiM",
        "colab_type": "code",
        "colab": {}
      },
      "source": [
        ""
      ],
      "execution_count": 0,
      "outputs": []
    },
    {
      "cell_type": "markdown",
      "metadata": {
        "id": "_JHdhf_bj-Jm",
        "colab_type": "text"
      },
      "source": [
        "3"
      ]
    },
    {
      "cell_type": "code",
      "metadata": {
        "id": "SVOhlPtQVx3A",
        "colab_type": "code",
        "colab": {}
      },
      "source": [
        "project_id = 'numeric-mote-259221' #@param {type:'string'}\n",
        "location = 'us-central1' #@param {type:'string'}"
      ],
      "execution_count": 0,
      "outputs": []
    },
    {
      "cell_type": "code",
      "metadata": {
        "id": "P9OGLAYsYL7K",
        "colab_type": "code",
        "colab": {
          "resources": {
            "http://localhost:8080/nbextensions/google.colab/files.js": {
              "data": "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",
              "ok": true,
              "headers": [
                [
                  "content-type",
                  "application/javascript"
                ]
              ],
              "status": 200,
              "status_text": ""
            }
          },
          "base_uri": "https://localhost:8080/",
          "height": 71
        },
        "outputId": "770ac770-1925-423f-c071-0e9a6a7ae740"
      },
      "source": [
        "from google.oauth2 import service_account\n",
        "from google.colab import files\n",
        "from google.cloud import automl_v1beta1\n",
        "\n",
        "# Upload service account key\n",
        "keyfile_upload = files.upload()\n",
        "keyfile_name = list(keyfile_upload.keys())[0]\n",
        "# Authenticate and create an AutoML client.\n",
        "credentials = service_account.Credentials.from_service_account_file(keyfile_name)\n",
        "client = automl.TablesClient(project=project_id, region=location, credentials=credentials)"
      ],
      "execution_count": 108,
      "outputs": [
        {
          "output_type": "display_data",
          "data": {
            "text/html": [
              "\n",
              "     <input type=\"file\" id=\"files-ed8a89b3-dd7a-4a5a-832c-dd7a810ef837\" name=\"files[]\" multiple disabled />\n",
              "     <output id=\"result-ed8a89b3-dd7a-4a5a-832c-dd7a810ef837\">\n",
              "      Upload widget is only available when the cell has been executed in the\n",
              "      current browser session. Please rerun this cell to enable.\n",
              "      </output>\n",
              "      <script src=\"/nbextensions/google.colab/files.js\"></script> "
            ],
            "text/plain": [
              "<IPython.core.display.HTML object>"
            ]
          },
          "metadata": {
            "tags": []
          }
        },
        {
          "output_type": "stream",
          "text": [
            "Saving service_account.json to service_account (3).json\n"
          ],
          "name": "stdout"
        }
      ]
    },
    {
      "cell_type": "code",
      "metadata": {
        "id": "7KHIZlVOYsce",
        "colab_type": "code",
        "colab": {
          "base_uri": "https://localhost:8080/",
          "height": 221
        },
        "outputId": "c8199fca-6bd5-479c-85ee-5014896d0115"
      },
      "source": [
        "dataset_display_name = 'energy_forcasting_solution' \n",
        "dataset = client.create_dataset(dataset_display_name)\n",
        "print(dataset.name) # unique to this dataset\n",
        "dataset"
      ],
      "execution_count": 109,
      "outputs": [
        {
          "output_type": "stream",
          "text": [
            "projects/269327017718/locations/us-central1/datasets/TBL4555439401596878848\n"
          ],
          "name": "stdout"
        },
        {
          "output_type": "execute_result",
          "data": {
            "text/plain": [
              "name: \"projects/269327017718/locations/us-central1/datasets/TBL4555439401596878848\"\n",
              "display_name: \"energy_forcasting_solution\"\n",
              "create_time {\n",
              "  seconds: 1573961007\n",
              "  nanos: 171636000\n",
              "}\n",
              "etag: \"AB3BwFqae4FrmqUfTgbQ4ATSv6TGAfW3SgFlujhDTN9EAebyN3gFHAdAARjfmQBhkpk=\"\n",
              "tables_dataset_metadata {\n",
              "  stats_update_time {\n",
              "  }\n",
              "}"
            ]
          },
          "metadata": {
            "tags": []
          },
          "execution_count": 109
        }
      ]
    },
    {
      "cell_type": "code",
      "metadata": {
        "id": "SXW6E3OuYwiV",
        "colab_type": "code",
        "colab": {}
      },
      "source": [
        "dataset = client.get_dataset(dataset_display_name=dataset_display_name)"
      ],
      "execution_count": 0,
      "outputs": []
    },
    {
      "cell_type": "code",
      "metadata": {
        "id": "tsf9tJTWY0aX",
        "colab_type": "code",
        "colab": {}
      },
      "source": [
        "dataset_bq_input_uri = 'bq://energy-forecasting.Energy.automldata' #@param {type: 'string'}\n",
        "\n",
        "import_data_operation = client.import_data(\n",
        "    dataset=dataset,\n",
        "    bigquery_input_uri=dataset_bq_input_uri\n",
        ")\n",
        "\n",
        "print('Dataset import operation: {}'.format(import_data_response.operation))\n",
        "\n",
        "# Wait until import is done.\n",
        "import_data_result = import_data_response.result()\n",
        "import_data_result"
      ],
      "execution_count": 0,
      "outputs": []
    },
    {
      "cell_type": "code",
      "metadata": {
        "id": "SbjrLySPdrl9",
        "colab_type": "code",
        "colab": {}
      },
      "source": [
        "list_table_specs_response = client.list_table_specs(dataset=dataset)\n",
        "table_specs = [s for s in list_table_specs_response]\n",
        "\n",
        "# List column specs\n",
        "list_column_specs_response = client.list_column_specs(dataset=dataset)\n",
        "column_specs = {s.display_name: s for s in list_column_specs_response}\n",
        "\n",
        "# Print Features and data_type:\n",
        "\n",
        "features = [(key, data_types.TypeCode.Name(value.data_type.type_code)) for key, value in column_specs.items()]\n",
        "print('Feature list:\\n')\n",
        "for feature in features:\n",
        "    print(feature[0],':', feature[1])"
      ],
      "execution_count": 0,
      "outputs": []
    },
    {
      "cell_type": "code",
      "metadata": {
        "id": "8dswwsCNd-PP",
        "colab_type": "code",
        "colab": {}
      },
      "source": [
        "column_to_category = 'hour' #@param {type: 'string'}\n",
        "\n",
        "update_column_response = client.update_column_spec(\n",
        "    dataset=dataset,\n",
        "    column_spec_display_name=column_to_category,\n",
        "    type_code='CATEGORY'\n",
        ")\n",
        "\n",
        "update_column_response.display_name, update_column_response.data_type"
      ],
      "execution_count": 0,
      "outputs": []
    },
    {
      "cell_type": "code",
      "metadata": {
        "id": "7-_FzEgbeAr_",
        "colab_type": "code",
        "colab": {}
      },
      "source": [
        "target_column_name = 'price' #@param {type: 'string'}\n",
        "split_column_name = 'split' #@param {type: 'string'}\n",
        "\n",
        "client.set_target_column(\n",
        "    dataset=dataset,\n",
        "    column_spec_display_name=target_column_name,\n",
        ")\n",
        "\n",
        "client.set_test_train_column(\n",
        "    dataset=dataset,\n",
        "    column_spec_display_name=split_column_name,\n",
        ")"
      ],
      "execution_count": 0,
      "outputs": []
    },
    {
      "cell_type": "code",
      "metadata": {
        "id": "nkA10qcSeDMF",
        "colab_type": "code",
        "colab": {}
      },
      "source": [
        "model_display_name = 'energy_model' #@param {type:'string'}\n",
        "model_train_hours = 12 #@param {type:'integer'}\n",
        "model_optimization_objective = 'MINIMIZE_MAE' #@param {type:'string'}\n",
        "\n",
        "create_model_response = client.create_model(\n",
        "    model_display_name,\n",
        "    dataset=dataset,\n",
        "    optimization_objective=model_optimization_objective,\n",
        "    train_budget_milli_node_hours=model_train_hours * 1000,\n",
        ")\n",
        "\n",
        "print('Dataset import operation: {}'.format(create_model_response.operation))\n",
        "# Wait until model training is done.\n",
        "model = create_model_response.result()\n",
        "model_name = model.name\n",
        "model"
      ],
      "execution_count": 0,
      "outputs": []
    },
    {
      "cell_type": "code",
      "metadata": {
        "id": "OsDIOA15eJnU",
        "colab_type": "code",
        "colab": {}
      },
      "source": [
        "metrics= [x for x in client.list_model_evaluations(model=model)][-1]\n",
        "metrics.regression_evaluation_metrics"
      ],
      "execution_count": 0,
      "outputs": []
    },
    {
      "cell_type": "code",
      "metadata": {
        "id": "ach6yzXNeL64",
        "colab_type": "code",
        "colab": {}
      },
      "source": [
        "feat_list = [(x.feature_importance, x.column_display_name) for x in model.tables_model_metadata.tables_model_column_info]\n",
        "feat_list.sort(reverse=True)\n",
        "feat_list[:15]"
      ],
      "execution_count": 0,
      "outputs": []
    },
    {
      "cell_type": "code",
      "metadata": {
        "id": "kW8VY5REeOf3",
        "colab_type": "code",
        "colab": {}
      },
      "source": [
        ""
      ],
      "execution_count": 0,
      "outputs": []
    },
    {
      "cell_type": "markdown",
      "metadata": {
        "id": "RmYE8q5jj6wL",
        "colab_type": "text"
      },
      "source": [
        "4"
      ]
    },
    {
      "cell_type": "code",
      "metadata": {
        "id": "K4JRoq5WeOwJ",
        "colab_type": "code",
        "colab": {
          "base_uri": "https://localhost:8080/",
          "height": 204
        },
        "outputId": "c227965d-a8e2-471f-ede9-0ffb0cbc3613"
      },
      "source": [
        "dataset_display_name = 'stockout_data' #@param {type: 'string'}\n",
        "\n",
        "dataset = client.create_dataset(dataset_display_name)\n",
        "dataset"
      ],
      "execution_count": 118,
      "outputs": [
        {
          "output_type": "execute_result",
          "data": {
            "text/plain": [
              "name: \"projects/269327017718/locations/us-central1/datasets/TBL2877742987285102592\"\n",
              "display_name: \"stockout_data\"\n",
              "create_time {\n",
              "  seconds: 1573963134\n",
              "  nanos: 747219000\n",
              "}\n",
              "etag: \"AB3BwFrSafMX89tsBGi8hX-D5K8-EvAzBgPzyZjRIY57zzCKVtvZRVuulyDAbrh5AwzF\"\n",
              "tables_dataset_metadata {\n",
              "  stats_update_time {\n",
              "  }\n",
              "}"
            ]
          },
          "metadata": {
            "tags": []
          },
          "execution_count": 118
        }
      ]
    },
    {
      "cell_type": "code",
      "metadata": {
        "id": "B0gy_b3zg4FL",
        "colab_type": "code",
        "colab": {
          "base_uri": "https://localhost:8080/",
          "height": 232
        },
        "outputId": "88a5488d-35a3-4c70-a28b-ae0175f16523"
      },
      "source": [
        "import_data_operation = client.import_data(\n",
        "    dataset=dataset,\n",
        "    bigquery_input_uri=bq_input_uri,\n",
        ")\n",
        "print('Dataset import operation: {}'.format(import_data_operation))"
      ],
      "execution_count": 123,
      "outputs": [
        {
          "output_type": "error",
          "ename": "NameError",
          "evalue": "ignored",
          "traceback": [
            "\u001b[0;31m---------------------------------------------------------------------------\u001b[0m",
            "\u001b[0;31mNameError\u001b[0m                                 Traceback (most recent call last)",
            "\u001b[0;32m<ipython-input-123-815020fb6cbf>\u001b[0m in \u001b[0;36m<module>\u001b[0;34m()\u001b[0m\n\u001b[1;32m      1\u001b[0m import_data_operation = client.import_data(\n\u001b[1;32m      2\u001b[0m     \u001b[0mdataset\u001b[0m\u001b[0;34m=\u001b[0m\u001b[0mdataset\u001b[0m\u001b[0;34m,\u001b[0m\u001b[0;34m\u001b[0m\u001b[0;34m\u001b[0m\u001b[0m\n\u001b[0;32m----> 3\u001b[0;31m     \u001b[0mbigquery_input_uri\u001b[0m\u001b[0;34m=\u001b[0m\u001b[0mbq_input_uri\u001b[0m\u001b[0;34m,\u001b[0m\u001b[0;34m\u001b[0m\u001b[0;34m\u001b[0m\u001b[0m\n\u001b[0m\u001b[1;32m      4\u001b[0m )\n\u001b[1;32m      5\u001b[0m \u001b[0mprint\u001b[0m\u001b[0;34m(\u001b[0m\u001b[0;34m'Dataset import operation: {}'\u001b[0m\u001b[0;34m.\u001b[0m\u001b[0mformat\u001b[0m\u001b[0;34m(\u001b[0m\u001b[0mimport_data_operation\u001b[0m\u001b[0;34m)\u001b[0m\u001b[0;34m)\u001b[0m\u001b[0;34m\u001b[0m\u001b[0;34m\u001b[0m\u001b[0m\n",
            "\u001b[0;31mNameError\u001b[0m: name 'bq_input_uri' is not defined"
          ]
        }
      ]
    },
    {
      "cell_type": "code",
      "metadata": {
        "id": "RgkNm-1IhfPi",
        "colab_type": "code",
        "colab": {}
      },
      "source": [
        "import_data_operation.result()\n",
        "dataset = client.get_dataset(dataset_name=dataset.name)\n",
        "dataset"
      ],
      "execution_count": 0,
      "outputs": []
    },
    {
      "cell_type": "code",
      "metadata": {
        "id": "XlbBCbhkhjtf",
        "colab_type": "code",
        "colab": {}
      },
      "source": [
        "list_table_specs_response = client.list_table_specs(dataset=dataset)\n",
        "table_specs = [s for s in list_table_specs_response]\n",
        "\n",
        "# List column specs\n",
        "list_column_specs_response = client.list_column_specs(dataset=dataset)\n",
        "column_specs = {s.display_name: s for s in list_column_specs_response}\n",
        "\n",
        "# Print Features and data_type:\n",
        "\n",
        "features = [(key, data_types.TypeCode.Name(value.data_type.type_code)) for key, value in column_specs.items()]\n",
        "print('Feature list:\\n')\n",
        "for feature in features:\n",
        "    print(feature[0],':', feature[1])"
      ],
      "execution_count": 0,
      "outputs": []
    },
    {
      "cell_type": "code",
      "metadata": {
        "id": "nkxz4fLEhmhh",
        "colab_type": "code",
        "colab": {}
      },
      "source": [
        "type_counts = {}\n",
        "for column_spec in column_specs.values():\n",
        "  type_name = data_types.TypeCode.Name(column_spec.data_type.type_code)\n",
        "  type_counts[type_name] = type_counts.get(type_name, 0) + 1\n",
        "    \n",
        "plt.pie(x=type_counts.values(), labels=type_counts.keys(), autopct='%1.1f%%')\n",
        "plt.axis('equal')\n",
        "plt.show()"
      ],
      "execution_count": 0,
      "outputs": []
    },
    {
      "cell_type": "code",
      "metadata": {
        "id": "UjfRMQssho94",
        "colab_type": "code",
        "colab": {}
      },
      "source": [
        "for column in column_specs:\n",
        "    print(column, '-', column_specs[column].data_type)"
      ],
      "execution_count": 0,
      "outputs": []
    },
    {
      "cell_type": "code",
      "metadata": {
        "id": "1tM7zk8ahsKU",
        "colab_type": "code",
        "colab": {}
      },
      "source": [
        "categorical_column_names = ['Item_Number',\n",
        "                        'Category',\n",
        "                        'Vendor_Number',\n",
        "                        'Store_Number',\n",
        "                        'Zip_Code',\n",
        "                        'County_Number']\n",
        "is_nullable = [False, \n",
        "              False,\n",
        "              False,\n",
        "              False,\n",
        "              True,\n",
        "              True]\n",
        "\n",
        "for i in range(len(categorical_column_names)):\n",
        "    column_name = categorical_column_names[i]\n",
        "    nullable = is_nullable[i]\n",
        "    client.update_column_spec(\n",
        "        dataset=dataset,\n",
        "        column_spec_display_name=column_name,\n",
        "        type_code='CATEGORY',\n",
        "        nullable=nullable,\n",
        "    )"
      ],
      "execution_count": 0,
      "outputs": []
    },
    {
      "cell_type": "code",
      "metadata": {
        "id": "QXwBXAJIhuem",
        "colab_type": "code",
        "colab": {}
      },
      "source": [
        "target_column_name = 'Stockout' #@param {type: 'string'}\n",
        "update_dataset_response = client.set_target_column(\n",
        "    dataset=dataset,\n",
        "    column_spec_display_name=target_column_name,\n",
        ")\n",
        "update_dataset_response"
      ],
      "execution_count": 0,
      "outputs": []
    },
    {
      "cell_type": "code",
      "metadata": {
        "id": "r5IAOcrQhwci",
        "colab_type": "code",
        "colab": {}
      },
      "source": [
        "model_display_name = 'stockout_model' #@param {type:'string'}\n",
        "\n",
        "create_model_response = client.create_model(\n",
        "    model_display_name,\n",
        "    dataset=dataset,\n",
        "    train_budget_milli_node_hours=1000,\n",
        "    optimization_objective='MAXIMIZE_AU_PRC',\n",
        ")\n",
        "print('Create model operation: {}'.format(create_model_response.operation))\n",
        "# Wait until model training is done.\n",
        "model = create_model_response.result()\n",
        "model"
      ],
      "execution_count": 0,
      "outputs": []
    },
    {
      "cell_type": "code",
      "metadata": {
        "id": "1s808svchzy2",
        "colab_type": "code",
        "colab": {}
      },
      "source": [
        "batch_predict_bq_input_uri = 'bq://product-stockout.product_stockout.batch_prediction_inputs'\n",
        "batch_predict_gcs_output_uri_prefix = 'gs://<BUCKET_NAME>'  #@param {type:'string'}\n",
        "\n",
        "batch_predict_response = client.batch_predict(\n",
        "    model=model, \n",
        "    biqquery_input_uris=batch_predict_bq_input_uri,\n",
        "    gcs_output_uri_prefix=batch_predict_gcs_output_uri_prefix,\n",
        ")\n",
        "print('Batch prediction operation: {}'.format(batch_predict_response.operation))\n",
        "# Wait until batch prediction is done.\n",
        "batch_predict_result = batch_predict_response.result()\n",
        "batch_predict_response.metadata"
      ],
      "execution_count": 0,
      "outputs": []
    },
    {
      "cell_type": "code",
      "metadata": {
        "id": "E38BVvWfh2RM",
        "colab_type": "code",
        "colab": {}
      },
      "source": [
        "gcs_output_directory = batch_predict_response.metadata.batch_predict_details.output_info.gcs_output_directory\n",
        "result_file = gcs_output_directory + 'tables_1.csv'\n",
        "print('Batch prediction results are stored as: {}'.format(result_file))"
      ],
      "execution_count": 0,
      "outputs": []
    },
    {
      "cell_type": "code",
      "metadata": {
        "id": "fRk8s5Brh5Ka",
        "colab_type": "code",
        "colab": {}
      },
      "source": [
        ""
      ],
      "execution_count": 0,
      "outputs": []
    },
    {
      "cell_type": "markdown",
      "metadata": {
        "id": "W1bDqV7Qj2Ov",
        "colab_type": "text"
      },
      "source": [
        "5"
      ]
    },
    {
      "cell_type": "code",
      "metadata": {
        "id": "AT5YFG1jh5Zu",
        "colab_type": "code",
        "colab": {}
      },
      "source": [
        "! pip3 install --upgrade --quiet google-cloud-automl google-cloud-bigquery"
      ],
      "execution_count": 0,
      "outputs": []
    },
    {
      "cell_type": "code",
      "metadata": {
        "id": "nxiUi-VSijKs",
        "colab_type": "code",
        "colab": {}
      },
      "source": [
        "from google.cloud import automl_v1beta1"
      ],
      "execution_count": 0,
      "outputs": []
    },
    {
      "cell_type": "code",
      "metadata": {
        "id": "5rqsO45MipHN",
        "colab_type": "code",
        "colab": {}
      },
      "source": [
        "PROJECT_ID = \"\"\n",
        "# The region to use for compute resources (AutoML isn't supported in some regions).\n",
        "LOCATION = \"us-central1\"\n",
        "# A name for the AutoML tables Dataset to create.\n",
        "DATASET_DISPLAY_NAME = \"\"\n",
        "# The BigQuery dataset to import data from (doesn't need to exist).\n",
        "INPUT_BQ_DATASET = \"\"\n",
        "# The BigQuery table to import data from (doesn't need to exist).\n",
        "INPUT_BQ_TABLE = \"\"\n",
        "# A name for the AutoML tables model to create.\n",
        "MODEL_DISPLAY_NAME = \"\"\n",
        "# The number of hours to train the model.\n",
        "MODEL_TRAIN_HOURS = 0\n",
        "\n",
        "assert all([\n",
        "    PROJECT_ID,\n",
        "    LOCATION,\n",
        "    DATASET_DISPLAY_NAME,\n",
        "    INPUT_BQ_DATASET,\n",
        "    INPUT_BQ_TABLE,\n",
        "    MODEL_DISPLAY_NAME,\n",
        "    MODEL_TRAIN_HOURS,\n",
        "])"
      ],
      "execution_count": 0,
      "outputs": []
    },
    {
      "cell_type": "code",
      "metadata": {
        "id": "IAsjFdLuiyG_",
        "colab_type": "code",
        "colab": {}
      },
      "source": [
        "from __future__ import absolute_import\n",
        "from __future__ import division\n",
        "from __future__ import print_function\n",
        "\n",
        "from google.cloud import automl_v1beta1\n",
        "from google.cloud import bigquery\n",
        "from google.cloud import exceptions\n",
        "import seaborn as sns\n",
        "\n",
        "%matplotlib inline\n",
        "\n",
        "\n",
        "tables_client = automl_v1beta1.TablesClient(project=PROJECT_ID, region=LOCATION)\n",
        "bq_client = bigquery.Client()"
      ],
      "execution_count": 0,
      "outputs": []
    },
    {
      "cell_type": "code",
      "metadata": {
        "id": "uidS-4RjjCyX",
        "colab_type": "code",
        "colab": {}
      },
      "source": [
        "query = \"\"\"\n",
        "   WITH\n",
        "    songs AS (\n",
        "      SELECT CONCAT(track_name, \" by \", artist_name) AS song,\n",
        "        MAX(tags) as tags\n",
        "      FROM `listenbrainz.listenbrainz.listen`\n",
        "      GROUP BY song\n",
        "      HAVING tags != \"\"\n",
        "      ORDER BY COUNT(*) DESC\n",
        "      LIMIT 10000\n",
        "    ),\n",
        "    user_songs AS (\n",
        "      SELECT user_name AS user, ANY_VALUE(artist_name) AS artist,\n",
        "        CONCAT(track_name, \" by \", artist_name) AS song,\n",
        "        SPLIT(ANY_VALUE(songs.tags), \",\") AS tags,\n",
        "        COUNT(*) AS user_song_listens\n",
        "      FROM `listenbrainz.listenbrainz.listen`\n",
        "      JOIN songs ON songs.song = CONCAT(track_name, \" by \", artist_name)\n",
        "      GROUP BY user_name, song\n",
        "    ),\n",
        "    user_tags AS (\n",
        "      SELECT user, tag, COUNT(*) AS COUNT\n",
        "      FROM user_songs,\n",
        "      UNNEST(tags) tag\n",
        "      WHERE tag != \"\"\n",
        "      GROUP BY user, tag\n",
        "    ),\n",
        "    top_tags AS (\n",
        "      SELECT tag\n",
        "      FROM user_tags\n",
        "      GROUP BY tag\n",
        "      ORDER BY SUM(count) DESC\n",
        "      LIMIT 20\n",
        "    ),\n",
        "    tag_table AS (\n",
        "      SELECT user, b.tag\n",
        "      FROM user_tags a, top_tags b\n",
        "      GROUP BY user, b.tag\n",
        "    ),\n",
        "    user_tag_features AS (\n",
        "      SELECT user,\n",
        "        ARRAY_AGG(IFNULL(count, 0) ORDER BY tag) as user_tags,\n",
        "        SUM(count) as tag_count\n",
        "      FROM tag_table\n",
        "      LEFT JOIN user_tags USING (user, tag)\n",
        "      GROUP BY user\n",
        "    ), user_features AS (\n",
        "      SELECT user, MAX(user_song_listens) AS user_max_listen,\n",
        "        ANY_VALUE(user_tags)[OFFSET(0)]/ANY_VALUE(tag_count) as user_tags0,\n",
        "        ANY_VALUE(user_tags)[OFFSET(1)]/ANY_VALUE(tag_count) as user_tags1,\n",
        "        ANY_VALUE(user_tags)[OFFSET(2)]/ANY_VALUE(tag_count) as user_tags2,\n",
        "        ANY_VALUE(user_tags)[OFFSET(3)]/ANY_VALUE(tag_count) as user_tags3,\n",
        "        ANY_VALUE(user_tags)[OFFSET(4)]/ANY_VALUE(tag_count) as user_tags4,\n",
        "        ANY_VALUE(user_tags)[OFFSET(5)]/ANY_VALUE(tag_count) as user_tags5,\n",
        "        ANY_VALUE(user_tags)[OFFSET(6)]/ANY_VALUE(tag_count) as user_tags6,\n",
        "        ANY_VALUE(user_tags)[OFFSET(7)]/ANY_VALUE(tag_count) as user_tags7,\n",
        "        ANY_VALUE(user_tags)[OFFSET(8)]/ANY_VALUE(tag_count) as user_tags8,\n",
        "        ANY_VALUE(user_tags)[OFFSET(9)]/ANY_VALUE(tag_count) as user_tags9,\n",
        "        ANY_VALUE(user_tags)[OFFSET(10)]/ANY_VALUE(tag_count) as user_tags10,\n",
        "        ANY_VALUE(user_tags)[OFFSET(11)]/ANY_VALUE(tag_count) as user_tags11,\n",
        "        ANY_VALUE(user_tags)[OFFSET(12)]/ANY_VALUE(tag_count) as user_tags12,\n",
        "        ANY_VALUE(user_tags)[OFFSET(13)]/ANY_VALUE(tag_count) as user_tags13,\n",
        "        ANY_VALUE(user_tags)[OFFSET(14)]/ANY_VALUE(tag_count) as user_tags14,\n",
        "        ANY_VALUE(user_tags)[OFFSET(15)]/ANY_VALUE(tag_count) as user_tags15,\n",
        "        ANY_VALUE(user_tags)[OFFSET(16)]/ANY_VALUE(tag_count) as user_tags16,\n",
        "        ANY_VALUE(user_tags)[OFFSET(17)]/ANY_VALUE(tag_count) as user_tags17,\n",
        "        ANY_VALUE(user_tags)[OFFSET(18)]/ANY_VALUE(tag_count) as user_tags18,\n",
        "        ANY_VALUE(user_tags)[OFFSET(19)]/ANY_VALUE(tag_count) as user_tags19\n",
        "      FROM user_songs\n",
        "      LEFT JOIN user_tag_features USING (user)\n",
        "      GROUP BY user\n",
        "      HAVING COUNT(*) < 5000 AND user_max_listen > 2\n",
        "    ),\n",
        "    item_features AS (\n",
        "      SELECT CONCAT(track_name, \" by \", artist_name) AS song,\n",
        "        COUNT(DISTINCT(release_name)) AS albums\n",
        "      FROM `listenbrainz.listenbrainz.listen`\n",
        "      WHERE track_name != \"\"\n",
        "      GROUP BY song\n",
        "    )\n",
        "  SELECT user, song, artist, tags, albums,\n",
        "    user_tags0,\n",
        "    user_tags1,\n",
        "    user_tags2,\n",
        "    user_tags3,\n",
        "    user_tags4,\n",
        "    user_tags5,\n",
        "    user_tags6,\n",
        "    user_tags7,\n",
        "    user_tags8,\n",
        "    user_tags9,\n",
        "    user_tags10,\n",
        "    user_tags11,\n",
        "    user_tags12,\n",
        "    user_tags13,\n",
        "    user_tags14,\n",
        "    user_tags15,\n",
        "    user_tags16,\n",
        "    user_tags17,\n",
        "    user_tags18,\n",
        "    user_tags19,\n",
        "    IF(user_song_listens > 2, \n",
        "       SQRT(user_song_listens/user_max_listen), \n",
        "       .5/user_song_listens) AS weight,\n",
        "    IF(user_song_listens > 2, 1, 0) as label\n",
        "  FROM user_songs\n",
        "  JOIN user_features USING(user)\n",
        "  JOIN item_features USING(song)\n",
        "\"\"\""
      ],
      "execution_count": 0,
      "outputs": []
    },
    {
      "cell_type": "code",
      "metadata": {
        "id": "FrG560sdjKJm",
        "colab_type": "code",
        "colab": {}
      },
      "source": [
        "def create_table_from_query(query, table):\n",
        "    \"\"\"Creates a new table using the results from the given query.\n",
        "    \n",
        "    Args:\n",
        "        query: a query string.\n",
        "        table: a name to give the new table.\n",
        "    \"\"\"\n",
        "    job_config = bigquery.QueryJobConfig()\n",
        "    bq_dataset = bigquery.Dataset(\"{0}.{1}\".format(PROJECT_ID, INPUT_BQ_DATASET))\n",
        "    bq_dataset.location = \"US\"\n",
        "\n",
        "    try:\n",
        "        bq_dataset = bq_client.create_dataset(bq_dataset)\n",
        "    except exceptions.Conflict:\n",
        "        pass\n",
        "\n",
        "    table_ref = bq_client.dataset(INPUT_BQ_DATASET).table(table)\n",
        "    job_config.destination = table_ref\n",
        "\n",
        "    query_job = bq_client.query(query,\n",
        "                             location=bq_dataset.location,\n",
        "                             job_config=job_config)\n",
        "\n",
        "    query_job.result()\n",
        "    print('Query results loaded to table {}'.format(table_ref.path))"
      ],
      "execution_count": 0,
      "outputs": []
    },
    {
      "cell_type": "code",
      "metadata": {
        "id": "063106u9jMu8",
        "colab_type": "code",
        "colab": {}
      },
      "source": [
        "create_table_from_query(query, INPUT_BQ_TABLE)"
      ],
      "execution_count": 0,
      "outputs": []
    },
    {
      "cell_type": "code",
      "metadata": {
        "id": "ox9Ge5t0jO6d",
        "colab_type": "code",
        "colab": {}
      },
      "source": [
        "dataset = tables_client.create_dataset(\n",
        "    dataset_display_name=DATASET_DISPLAY_NAME)\n",
        "\n",
        "dataset_bq_input_uri = 'bq://{0}.{1}.{2}'.format(\n",
        "    PROJECT_ID, INPUT_BQ_DATASET, INPUT_BQ_TABLE)\n",
        "import_data_response = tables_client.import_data(\n",
        "    dataset=dataset, bigquery_input_uri=dataset_bq_input_uri)\n",
        "import_data_result = import_data_response.result()\n",
        "import_data_result"
      ],
      "execution_count": 0,
      "outputs": []
    },
    {
      "cell_type": "code",
      "metadata": {
        "id": "K6eUFbwGjQ2f",
        "colab_type": "code",
        "colab": {}
      },
      "source": [
        "    dataset_display_name=DATASET_DISPLAY_NAME)\n",
        "column_specs = {s.display_name: s for s in list_column_specs_response}\n",
        "\n",
        "def print_column_specs(column_specs):\n",
        "    \"\"\"Parses the given specs and prints each column and column type.\"\"\"\n",
        "    data_types = automl_v1beta1.proto.data_types_pb2\n",
        "    return [(x, data_types.TypeCode.Name(\n",
        "        column_specs[x].data_type.type_code)) for x in column_specs.keys()]\n",
        "\n",
        "print_column_specs(column_specs)"
      ],
      "execution_count": 0,
      "outputs": []
    },
    {
      "cell_type": "code",
      "metadata": {
        "id": "8Nl-ZFQ_jTB6",
        "colab_type": "code",
        "colab": {}
      },
      "source": [
        "for col in [\"song\", \"artist\"]:\n",
        "    tables_client.update_column_spec(dataset_display_name=DATASET_DISPLAY_NAME,\n",
        "                                     column_spec_display_name=col,\n",
        "                                     type_code=\"CATEGORY\")\n",
        "\n",
        "list_column_specs_response = tables_client.list_column_specs(\n",
        "    dataset_display_name=DATASET_DISPLAY_NAME)\n",
        "column_specs = {s.display_name: s for s in list_column_specs_response}\n",
        "print_column_specs(column_specs)"
      ],
      "execution_count": 0,
      "outputs": []
    },
    {
      "cell_type": "code",
      "metadata": {
        "id": "aVgC1eA_jWnf",
        "colab_type": "code",
        "colab": {}
      },
      "source": [
        "tables_client.set_target_column(dataset_display_name=DATASET_DISPLAY_NAME,\n",
        "                                column_spec_display_name=\"label\")\n",
        "\n",
        "tables_client.set_weight_column(dataset_display_name=DATASET_DISPLAY_NAME,\n",
        "                                column_spec_display_name=\"weight\")"
      ],
      "execution_count": 0,
      "outputs": []
    },
    {
      "cell_type": "code",
      "metadata": {
        "id": "G5-K_xDpjZRG",
        "colab_type": "code",
        "colab": {}
      },
      "source": [
        "tables_client.create_model(\n",
        "    model_display_name=MODEL_DISPLAY_NAME,\n",
        "    dataset_display_name=DATASET_DISPLAY_NAME,\n",
        "    train_budget_milli_node_hours= MODEL_TRAIN_HOURS * 1000).result()"
      ],
      "execution_count": 0,
      "outputs": []
    },
    {
      "cell_type": "code",
      "metadata": {
        "id": "ouAEPwv_jci_",
        "colab_type": "code",
        "colab": {}
      },
      "source": [
        "users = [\"rob\", \"fiveofoh\", \"Aerion\"]\n",
        "training_table = \"{}.{}.{}\".format(PROJECT_ID, INPUT_BQ_DATASET, INPUT_BQ_TABLE)\n",
        "query = \"\"\"\n",
        "    WITH user as (\n",
        "      SELECT user, \n",
        "        user_tags0, user_tags1, user_tags2, user_tags3, user_tags4,\n",
        "        user_tags5, user_tags6, user_tags7, user_tags8, user_tags9,\n",
        "        user_tags10,user_tags11, user_tags12, user_tags13, user_tags14,\n",
        "        user_tags15, user_tags16, user_tags17, user_tags18, user_tags19, label\n",
        "      FROM `{0}`\n",
        "      WHERE user in ({1})\n",
        "    )\n",
        "    SELECT ANY_VALUE(a).*, song, ANY_VALUE(artist) as artist,\n",
        "      ANY_VALUE(tags) as tags, ANY_VALUE(albums) as albums\n",
        "    FROM `{0}`, user a\n",
        "    GROUP BY song\n",
        "\"\"\".format(training_table, \",\".join([\"\\\"{}\\\"\".format(x) for x in users]))"
      ],
      "execution_count": 0,
      "outputs": []
    },
    {
      "cell_type": "code",
      "metadata": {
        "id": "I_2g5ON1jgCV",
        "colab_type": "code",
        "colab": {}
      },
      "source": [
        "eval_table = \"{}_example\".format(INPUT_BQ_TABLE)\n",
        "create_table_from_query(query, eval_table)"
      ],
      "execution_count": 0,
      "outputs": []
    },
    {
      "cell_type": "code",
      "metadata": {
        "id": "hskR2Sbwjix6",
        "colab_type": "code",
        "colab": {}
      },
      "source": [
        "preds_bq_input_uri = \"bq://{}.{}.{}\".format(PROJECT_ID, INPUT_BQ_DATASET, eval_table)\n",
        "preds_bq_output_uri = \"bq://{}\".format(PROJECT_ID)\n",
        "response = tables_client.batch_predict(model_display_name=MODEL_DISPLAY_NAME,\n",
        "                                       bigquery_input_uri=preds_bq_input_uri,\n",
        "                                       bigquery_output_uri=preds_bq_output_uri)\n",
        "response.result()\n",
        "output_uri = response.metadata.batch_predict_details.output_info.bigquery_output_dataset"
      ],
      "execution_count": 0,
      "outputs": []
    },
    {
      "cell_type": "code",
      "metadata": {
        "id": "hoJsgsGvjlLT",
        "colab_type": "code",
        "colab": {}
      },
      "source": [
        "n = 10\n",
        "query = \"\"\"\n",
        "    SELECT user, song, tables.score as score, a.label as pred_label,\n",
        "      b.label as true_label\n",
        "    FROM `{}.predictions` a, UNNEST(predicted_label)\n",
        "    LEFT JOIN `{}` b USING(user, song)\n",
        "    WHERE user = \"{}\" AND CAST(tables.value AS INT64) = 1\n",
        "    ORDER BY score DESC\n",
        "    LIMIT {}\n",
        "\"\"\".format(output_uri[5:].replace(\":\", \".\"), training_table, users[0], n)\n",
        "query_job = bq_client.query(query)\n",
        "\n",
        "print(\"Top {} song recommended for {}:\".format(n, users[0]))\n",
        "for idx, row in enumerate(query_job):\n",
        "    print(\"{}.\".format(idx + 1), row[\"song\"])"
      ],
      "execution_count": 0,
      "outputs": []
    },
    {
      "cell_type": "code",
      "metadata": {
        "id": "wwGV-bP4jnqr",
        "colab_type": "code",
        "colab": {}
      },
      "source": [
        "query = \"\"\"\n",
        "    WITH \n",
        "      top_k AS (\n",
        "        SELECT user, song, label,\n",
        "          ROW_NUMBER() OVER (PARTITION BY user ORDER BY label + weight DESC) as user_rank\n",
        "        FROM `{0}`\n",
        "      )\n",
        "    SELECT user, song, tables.score as score, b.label,\n",
        "      ROW_NUMBER() OVER (ORDER BY tables.score DESC) as rank, user_rank\n",
        "    FROM `{1}.predictions` a, UNNEST(predicted_label)\n",
        "    LEFT JOIN top_k b USING(user, song)\n",
        "    WHERE CAST(tables.value AS INT64) = 1\n",
        "    ORDER BY score DESC\n",
        "\"\"\".format(training_table, output_uri[5:].replace(\":\", \".\"))\n",
        "\n",
        "df = bq_client.query(query).result().to_dataframe()\n",
        "df.head()"
      ],
      "execution_count": 0,
      "outputs": []
    },
    {
      "cell_type": "code",
      "metadata": {
        "id": "adySUq20jres",
        "colab_type": "code",
        "colab": {}
      },
      "source": [
        "precision_at_k = {}\n",
        "recall_at_k = {}\n",
        "\n",
        "for user in users:\n",
        "    precision_at_k[user] = []\n",
        "    recall_at_k[user] = []\n",
        "    for k in range(1, 1000):\n",
        "        precision = df[\"label\"][:k].sum() / k\n",
        "        recall = df[\"label\"][:k].sum() / df[\"label\"].sum()\n",
        "        precision_at_k[user].append(precision)\n",
        "        recall_at_k[user].append(recall)\n",
        "\n",
        "# plot the precision-recall curve\n",
        "ax = sns.lineplot(recall_at_k[users[0]], precision_at_k[users[0]])\n",
        "ax.set_title(\"precision-recall curve for varying k\")\n",
        "ax.set_xlabel(\"recall@k\")\n",
        "ax.set_ylabel(\"precision@k\")"
      ],
      "execution_count": 0,
      "outputs": []
    },
    {
      "cell_type": "code",
      "metadata": {
        "id": "DxUxInpqjt47",
        "colab_type": "code",
        "colab": {}
      },
      "source": [
        "def calculate_ap(precision):\n",
        "    ap = [precision[0]]\n",
        "    for p in precision[1:]:\n",
        "        ap.append(ap[-1] + p)\n",
        "    ap = [x / (n + 1) for x, n in zip(ap, range(len(ap)))]\n",
        "    return ap\n",
        "\n",
        "ap_at_k = {user: calculate_ap(pk)\n",
        "           for user, pk in precision_at_k.items()}\n",
        "\n",
        "num_k = 500\n",
        "map_at_k = [sum([ap_at_k[user][k] for user in users]) / len(users)\n",
        "            for k in range(num_k)]\n",
        "print(\"MAP@50: {}\".format(map_at_k[49]))\n",
        "\n",
        "# plot average precision\n",
        "ax = sns.lineplot(range(num_k), map_at_k)\n",
        "ax.set_title(\"MAP@k for varying k\")\n",
        "ax.set_xlabel(\"k\")\n",
        "ax.set_ylabel(\"MAP\")"
      ],
      "execution_count": 0,
      "outputs": []
    },
    {
      "cell_type": "code",
      "metadata": {
        "id": "m0R-GmDnjwz8",
        "colab_type": "code",
        "colab": {}
      },
      "source": [
        ""
      ],
      "execution_count": 0,
      "outputs": []
    }
  ]
}
