{
 "cells": [
  {
   "cell_type": "markdown",
   "metadata": {},
   "source": [
    "\n",
    " # <h3 align=\"center\"> <font color='green'>Assignment 01</font></h3> "
   ]
  },
  {
   "cell_type": "markdown",
   "metadata": {},
   "source": [
    "Github links:\n",
    "Chamundeswari Koppisetti: https://github.com/chamundeswarik \n",
    "Shengyang Ni            : https://github.com/hbcblhgew "
   ]
  },
  {
   "cell_type": "markdown",
   "metadata": {},
   "source": [
    "**Question 1:**\n",
    "\n",
    "Write a function that takes a period (e.g. 2017), sends requests to US Treasury website, retrieves the response, and returns the yield rates in a 2- dimensional list/array (each column is a yield rate type, each row is a date).\n",
    "\n",
    "**Code description:**\n",
    "\n",
    "* Have imported \"urllib.request\" module to open and read URLs, 'lxml.etree for parsing XML\n",
    "* Defined function \"yielddata()\" with year as an input argument\n",
    "* Generated url by apending \"year\" from input and stored to variable \"URL\"\n",
    "* The xml data from URL is opened and read using the functions \"urlopen()\" and \"read()\", which is then stored to variable \"xml\"\n",
    "* The xml data is parsed using the function fromstring() and stored to variable \"tree\"\n",
    "* Call \"xpath()\" to locate all elements in the tree\n",
    "* Created empty list columns[], used \"findall()\" function to find all elements in the tree and added those lists to columns using \"append()\"\n",
    "* Data from the list of columns is added to the list finaldata[], where each row contains the treasury yield rates for all the time periods for a given date\n",
    "* Passing the function \"yielddata(year)\" returns the required output\n",
    "\n"
   ]
  },
  {
   "cell_type": "code",
   "execution_count": null,
   "metadata": {
    "scrolled": false
   },
   "outputs": [],
   "source": [
    "#Question 1\n",
    "\n",
    "import urllib.request\n",
    "from lxml import etree\n",
    "\n",
    "def yielddata(year):\n",
    "    \n",
    "    URL = 'http://data.treasury.gov/feed.svc/DailyTreasuryYieldCurveRateData?$filter=year(NEW_DATE)%20eq%20' + str(year)\n",
    "    #read the term_structures data from url\n",
    "    xml = urllib.request.urlopen(URL).read()\n",
    "    tree = etree.fromstring(xml)\n",
    "    tree.xpath(\"//*\")\n",
    "    columns=[]\n",
    "    \n",
    "    #term_structures in the downlaoded data\n",
    "    term_structures = ['NEW_DATE', 'BC_1MONTH', 'BC_3MONTH', 'BC_6MONTH', 'BC_1YEAR', 'BC_2YEAR', 'BC_3YEAR',\n",
    "                      'BC_5YEAR', 'BC_7YEAR', 'BC_10YEAR', 'BC_20YEAR', 'BC_30YEAR']\n",
    "    \n",
    "    # get all term_structures from the downlaoded data\n",
    "    for each_term_struct in term_structures:\n",
    "        \n",
    "        columns.append(tree.findall(\".//{http://schemas.microsoft.com/ado/2007/08/dataservices}\" + str(each_term_struct)))\n",
    "\n",
    "\n",
    "    count = len(columns[0])\n",
    "\n",
    "    finaldata = []\n",
    "    for i in range (0,count):\n",
    "        rows = []\n",
    "        for column in columns:\n",
    "            rows.append(column.pop(0).text)\n",
    "        finaldata.append(rows)\n",
    "        \n",
    "    return finaldata\n",
    "\n",
    "yielddata(2017)\n"
   ]
  },
  {
   "cell_type": "markdown",
   "metadata": {},
   "source": [
    "**Question 2:**\n",
    "\n",
    "Write code that, given periods spanning over several years (e.g. 2010 to 2018), calls the function above for each year, and saves the data to an Excel file in 1 single sheet, of which each column stores 1 type of yield rate (e.g. 1 month rate, 3 month rate, etc.). Save the file to your Google Drive, and download it to your computer to submit.\n",
    "\n",
    "**Code description:**\n",
    "\n",
    "* Using the previous function yielddata() from Question 1\n",
    "* Time period is stored in \"start\" and \"end\" variables\n",
    "* Have set error if start year > end year\n",
    "* For every year in the given time period, we are getting the yields and creating a dataframe \"df\"\n",
    "* Merged all the data in a single dataframe, saved the final dataframe in excel format\n",
    "* Final output: Enter start and end years when asked for and file \"Treasuy Yield.xls\" gets saved for the requested data. (example file for 2015 to 2019 is attached)"
   ]
  },
  {
   "cell_type": "code",
   "execution_count": null,
   "metadata": {},
   "outputs": [],
   "source": [
    "#Question 2\n",
    "\n",
    "import pandas as pd\n",
    "\n",
    "#input for start and end year to get data\n",
    "start = int(input(\"enter start year: \"))\n",
    "end = int(input(\"enter end year: \"))\n",
    "\n",
    "# check for the wrong input years\n",
    "if start > end:\n",
    "    print (\"invalid\")\n",
    "else: \n",
    "    #column names in the excel_sheet\n",
    "    firstrow = ['Date', '1Mo', '3Mo', '6Mo', '1Yr', '2Yr', '3Yr', '5Yr', '7Yr', '10Yr', '20Yr', '30Yr']\n",
    "    work_sheet = pd.DataFrame()\n",
    "    \n",
    "    #get data of each year from the url\n",
    "    for year in range (start, end+1):\n",
    "        treasuryrates=yielddata(year)\n",
    "        df = pd.DataFrame(treasuryrates)\n",
    "        #append all the data in a dataframe\n",
    "        work_sheet = pd.concat([work_sheet, df])\n",
    "    work_sheet.columns = firstrow\n",
    "    #create excel sheet for the downloaded data\n",
    "    work_sheet.to_excel('Treasury_Yields.xlsx', index=False)\n",
    "        "
   ]
  }
 ],
 "metadata": {
  "kernelspec": {
   "display_name": "Python 3",
   "language": "python",
   "name": "python3"
  },
  "language_info": {
   "codemirror_mode": {
    "name": "ipython",
    "version": 3
   },
   "file_extension": ".py",
   "mimetype": "text/x-python",
   "name": "python",
   "nbconvert_exporter": "python",
   "pygments_lexer": "ipython3",
   "version": "3.7.3"
  }
 },
 "nbformat": 4,
 "nbformat_minor": 2
}
